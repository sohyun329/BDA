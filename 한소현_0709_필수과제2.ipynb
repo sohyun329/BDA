{
  "nbformat": 4,
  "nbformat_minor": 0,
  "metadata": {
    "colab": {
      "provenance": []
    },
    "kernelspec": {
      "name": "python3",
      "display_name": "Python 3"
    },
    "language_info": {
      "name": "python"
    }
  },
  "cells": [
    {
      "cell_type": "markdown",
      "source": [
        "### 필수과제2\n",
        "- 정규표현식 수업시간에 배우지 않는 것 최소 5개 이상 찾아주시고, 해당 정규표현식 코드 작성 및 주석으로 어떤 원리로 작동하는지 체크해 주세요!"
      ],
      "metadata": {
        "id": "RtE_JdI2HA7y"
      }
    },
    {
      "cell_type": "code",
      "execution_count": null,
      "metadata": {
        "id": "Dozm1PP3GHZZ"
      },
      "outputs": [],
      "source": [
        "import re"
      ]
    },
    {
      "cell_type": "markdown",
      "source": [
        "## dot(.) : .은 한 개의 임의의 문자를 나타낸다."
      ],
      "metadata": {
        "id": "yISmtMw4JxrE"
      }
    },
    {
      "cell_type": "code",
      "source": [
        "r = re.compile('a.c')\n",
        "r.search('kkk')"
      ],
      "metadata": {
        "id": "fzMh-tjVJ09H"
      },
      "execution_count": null,
      "outputs": []
    },
    {
      "cell_type": "code",
      "source": [
        "r.search('abc')"
      ],
      "metadata": {
        "colab": {
          "base_uri": "https://localhost:8080/"
        },
        "id": "J_v61yHGKAeX",
        "outputId": "d8d668d4-6523-4533-b697-960e085f1280"
      },
      "execution_count": null,
      "outputs": [
        {
          "output_type": "execute_result",
          "data": {
            "text/plain": [
              "<re.Match object; span=(0, 3), match='abc'>"
            ]
          },
          "metadata": {},
          "execution_count": 12
        }
      ]
    },
    {
      "cell_type": "code",
      "source": [
        "r.search('alc')"
      ],
      "metadata": {
        "colab": {
          "base_uri": "https://localhost:8080/"
        },
        "id": "3ZBaNqwNKWZ0",
        "outputId": "55f553f1-8a86-4cc1-9c2e-c26f75c3dbf6"
      },
      "execution_count": null,
      "outputs": [
        {
          "output_type": "execute_result",
          "data": {
            "text/plain": [
              "<re.Match object; span=(0, 3), match='alc'>"
            ]
          },
          "metadata": {},
          "execution_count": 13
        }
      ]
    },
    {
      "cell_type": "markdown",
      "source": [
        "## ? : ?는 ?앞의 문자가 존재할 수도 있고 존재하지 않을 수도 있는 경우를 나타낸다."
      ],
      "metadata": {
        "id": "dyIbmZuRKEAd"
      }
    },
    {
      "cell_type": "code",
      "source": [
        "r = re.compile('ab?c')\n",
        "r.search('abbc')"
      ],
      "metadata": {
        "id": "tS_dJ6cHKJI2"
      },
      "execution_count": null,
      "outputs": []
    },
    {
      "cell_type": "code",
      "source": [
        "r.search('abc')"
      ],
      "metadata": {
        "colab": {
          "base_uri": "https://localhost:8080/"
        },
        "id": "otsSdnmNKRvW",
        "outputId": "abeb51be-9804-4e17-e996-93246eeef6f2"
      },
      "execution_count": null,
      "outputs": [
        {
          "output_type": "execute_result",
          "data": {
            "text/plain": [
              "<re.Match object; span=(0, 3), match='abc'>"
            ]
          },
          "metadata": {},
          "execution_count": 15
        }
      ]
    },
    {
      "cell_type": "code",
      "source": [
        "r.search('ac')"
      ],
      "metadata": {
        "colab": {
          "base_uri": "https://localhost:8080/"
        },
        "id": "Rz-AXRypKTUo",
        "outputId": "63e44944-51e3-461e-e1f0-9c95e00307a3"
      },
      "execution_count": null,
      "outputs": [
        {
          "output_type": "execute_result",
          "data": {
            "text/plain": [
              "<re.Match object; span=(0, 2), match='ac'>"
            ]
          },
          "metadata": {},
          "execution_count": 16
        }
      ]
    },
    {
      "cell_type": "markdown",
      "source": [
        "## ^ : ^는 시작되는 문자열 지정"
      ],
      "metadata": {
        "id": "4Q-7NhOqKgh_"
      }
    },
    {
      "cell_type": "code",
      "source": [
        "r = re.compile('^ab')\n",
        "r.search('bbc')\n",
        "r.search('zab')"
      ],
      "metadata": {
        "id": "OC8b7uTzKjM0"
      },
      "execution_count": null,
      "outputs": []
    },
    {
      "cell_type": "code",
      "source": [
        "r.search('abz')"
      ],
      "metadata": {
        "colab": {
          "base_uri": "https://localhost:8080/"
        },
        "id": "vO7Jq3hVKsu8",
        "outputId": "26c97ba9-a6fb-4515-aa5c-dbc9a665cc10"
      },
      "execution_count": null,
      "outputs": [
        {
          "output_type": "execute_result",
          "data": {
            "text/plain": [
              "<re.Match object; span=(0, 2), match='ab'>"
            ]
          },
          "metadata": {},
          "execution_count": 19
        }
      ]
    },
    {
      "cell_type": "markdown",
      "source": [
        "## OR ( | ) : or과 동일한 의미로 사용"
      ],
      "metadata": {
        "id": "rE6KH9CGIY7a"
      }
    },
    {
      "cell_type": "code",
      "source": [
        "p = re.compile('apple|pie')\n",
        "test = p.findall('apple app pie appie apppppple pieeeeee')\n",
        "print(test)"
      ],
      "metadata": {
        "colab": {
          "base_uri": "https://localhost:8080/"
        },
        "id": "ls6F1i79IdaV",
        "outputId": "3b8619d1-e204-43b3-8e53-06c0d4242f75"
      },
      "execution_count": null,
      "outputs": [
        {
          "output_type": "stream",
          "name": "stdout",
          "text": [
            "['apple', 'pie', 'pie', 'pie']\n"
          ]
        }
      ]
    },
    {
      "cell_type": "markdown",
      "source": [
        "## {숫자} 기호 : 문자에 해당 기호를 붙이면, 해당 문자를 숫자만큼 반복한 것을 나타낸다."
      ],
      "metadata": {
        "id": "PUeC1NQSLTau"
      }
    },
    {
      "cell_type": "code",
      "source": [
        "r = re.compile(\"ab{2}c\")\n",
        "\n",
        "r.search('ac')\n",
        "r.search('abc')\n",
        "r.search('abbbbbbc')"
      ],
      "metadata": {
        "id": "2_UWwttoLZTk"
      },
      "execution_count": null,
      "outputs": []
    },
    {
      "cell_type": "code",
      "source": [
        "r.search('abbc')"
      ],
      "metadata": {
        "colab": {
          "base_uri": "https://localhost:8080/"
        },
        "id": "QOvMAcQILh04",
        "outputId": "142c142e-9593-450f-8623-099bc606b4f1"
      },
      "execution_count": null,
      "outputs": [
        {
          "output_type": "execute_result",
          "data": {
            "text/plain": [
              "<re.Match object; span=(0, 4), match='abbc'>"
            ]
          },
          "metadata": {},
          "execution_count": 24
        }
      ]
    },
    {
      "cell_type": "markdown",
      "source": [
        "## {숫자1, 숫자2} 기호 : 문자에 해당 기호를 붙이면, 해당 문자를 숫자1이상 숫자2이하 만큼 반복한 것을 나타낸다."
      ],
      "metadata": {
        "id": "Zk_X7jHhLm7K"
      }
    },
    {
      "cell_type": "code",
      "source": [
        "r = re.compile(\"ab{2,8}c\")\n",
        "\n",
        "r.search('ac')\n",
        "r.search('abc')\n",
        "r.search('abbbbbbc')"
      ],
      "metadata": {
        "colab": {
          "base_uri": "https://localhost:8080/"
        },
        "id": "l8IAg2u1Ls2l",
        "outputId": "74d23843-5feb-4203-e6eb-c436e86be381"
      },
      "execution_count": null,
      "outputs": [
        {
          "output_type": "execute_result",
          "data": {
            "text/plain": [
              "<re.Match object; span=(0, 8), match='abbbbbbc'>"
            ]
          },
          "metadata": {},
          "execution_count": 25
        }
      ]
    },
    {
      "cell_type": "markdown",
      "source": [
        "## {숫자,} 기호 : 문자에 해당 기호를 붙이면, 해당 문자를 숫자이상 만큼 반복"
      ],
      "metadata": {
        "id": "Rszi2heJLxY7"
      }
    },
    {
      "cell_type": "code",
      "source": [
        "r = re.compile(\"a{2,}bc\")\n",
        "r.search(\"bc\")\n",
        "r.search(\"aa\")"
      ],
      "metadata": {
        "id": "NBkfyaIYL35X"
      },
      "execution_count": null,
      "outputs": []
    },
    {
      "cell_type": "code",
      "source": [
        "r.search(\"aabc\")"
      ],
      "metadata": {
        "colab": {
          "base_uri": "https://localhost:8080/"
        },
        "id": "WpJu4NrFL6Zw",
        "outputId": "53809fe4-b0fc-4b56-a500-d15900cd1710"
      },
      "execution_count": null,
      "outputs": [
        {
          "output_type": "execute_result",
          "data": {
            "text/plain": [
              "<re.Match object; span=(0, 4), match='aabc'>"
            ]
          },
          "metadata": {},
          "execution_count": 27
        }
      ]
    },
    {
      "cell_type": "markdown",
      "source": [
        "## [^문자] 기호 : [^문자]는 ^기호 뒤에 붙은 문자들을 제외한 모든 문자를 매치하는 역할을 한다."
      ],
      "metadata": {
        "id": "tLGJF0icL_SA"
      }
    },
    {
      "cell_type": "code",
      "source": [
        "r = re.compile(\"[^abc]\")\n",
        "r.search(\"a\")\n",
        "r.search(\"ab\")\n",
        "r.search(\"b\")"
      ],
      "metadata": {
        "id": "Mk6Dbr54MFa-"
      },
      "execution_count": null,
      "outputs": []
    },
    {
      "cell_type": "code",
      "source": [
        "r.search(\"d\")"
      ],
      "metadata": {
        "colab": {
          "base_uri": "https://localhost:8080/"
        },
        "id": "q9NJtmYZMIz7",
        "outputId": "94c4fa87-d530-41c3-96d8-4e4671ccd2ca"
      },
      "execution_count": null,
      "outputs": [
        {
          "output_type": "execute_result",
          "data": {
            "text/plain": [
              "<re.Match object; span=(0, 1), match='d'>"
            ]
          },
          "metadata": {},
          "execution_count": 29
        }
      ]
    },
    {
      "cell_type": "markdown",
      "source": [
        "## re.split( ) : split( )함수는 입력된 정규 표현식을 기준으로 문자열들을 분리하여 리스트로 리턴한다."
      ],
      "metadata": {
        "id": "dqWf17VwMNvy"
      }
    },
    {
      "cell_type": "code",
      "source": [
        "# 공백 기준 분리\n",
        "text = \"Nice to meet you\"\n",
        "re.split(\" \",text)"
      ],
      "metadata": {
        "colab": {
          "base_uri": "https://localhost:8080/"
        },
        "id": "3k86wH1cMUaF",
        "outputId": "594c2f73-127c-4807-9ad0-158c7914db93"
      },
      "execution_count": null,
      "outputs": [
        {
          "output_type": "execute_result",
          "data": {
            "text/plain": [
              "['Nice', 'to', 'meet', 'you']"
            ]
          },
          "metadata": {},
          "execution_count": 30
        }
      ]
    },
    {
      "cell_type": "code",
      "source": [
        "# 줄바꿈 기준 분리\n",
        "text = \"\"\" Nice\n",
        "to\n",
        "meet\n",
        "you\"\"\"\n",
        "re.split(\"\\n\",text)"
      ],
      "metadata": {
        "colab": {
          "base_uri": "https://localhost:8080/"
        },
        "id": "HPGi3cjVMd1M",
        "outputId": "0c21cb2c-5363-4e05-f502-13827567be9f"
      },
      "execution_count": null,
      "outputs": [
        {
          "output_type": "execute_result",
          "data": {
            "text/plain": [
              "[' Nice', 'to', 'meet', 'you']"
            ]
          },
          "metadata": {},
          "execution_count": 31
        }
      ]
    },
    {
      "cell_type": "markdown",
      "source": [
        "## re.findall( ) : findall( )함수는 정규표현식과 매치된느 모든 문자열들을 리스트로 리턴한다."
      ],
      "metadata": {
        "id": "0-Wru7mOMnIB"
      }
    },
    {
      "cell_type": "code",
      "source": [
        "text = \"\"\"이름 : 김철수\n",
        "전화번호 : 010 - 1234 - 1234\n",
        "나이 : 30\n",
        "성별 : 남\"\"\"\n",
        "re.findall('\\d+',text)"
      ],
      "metadata": {
        "colab": {
          "base_uri": "https://localhost:8080/"
        },
        "id": "ZjFNmST5MtrR",
        "outputId": "eecd7499-d735-4746-b5d9-b8a3f59b7d97"
      },
      "execution_count": null,
      "outputs": [
        {
          "output_type": "execute_result",
          "data": {
            "text/plain": [
              "['010', '1234', '1234', '30']"
            ]
          },
          "metadata": {},
          "execution_count": 32
        }
      ]
    },
    {
      "cell_type": "code",
      "source": [
        "# 이메일 찾기\n",
        "text = \"이메일 주소는 python@gmail.com 입니다.\"\n",
        "re.findall(r'[\\w\\.-]+@[\\w\\.-]+',text)"
      ],
      "metadata": {
        "colab": {
          "base_uri": "https://localhost:8080/"
        },
        "id": "v8UEjZcSQVVi",
        "outputId": "e11f22aa-8495-4069-e7d6-a51528ed357c"
      },
      "execution_count": null,
      "outputs": [
        {
          "output_type": "execute_result",
          "data": {
            "text/plain": [
              "['python@gmail.com']"
            ]
          },
          "metadata": {},
          "execution_count": 40
        }
      ]
    },
    {
      "cell_type": "code",
      "source": [
        "# 한글 찾기\n",
        "re.findall(r'[ㄱ-힣]+',text)"
      ],
      "metadata": {
        "colab": {
          "base_uri": "https://localhost:8080/"
        },
        "id": "WDoT5Xw0Qy3p",
        "outputId": "b5b53a2c-2de6-4401-eb34-121afbd782ff"
      },
      "execution_count": null,
      "outputs": [
        {
          "output_type": "execute_result",
          "data": {
            "text/plain": [
              "['이메일', '주소는', '입니다']"
            ]
          },
          "metadata": {},
          "execution_count": 41
        }
      ]
    },
    {
      "cell_type": "markdown",
      "source": [
        "## re.sub( ) : sub( )함수는 정규 표현식 패턴과 일치하는 문자열을 찾아 다른 문자열로 대체할 수 있다."
      ],
      "metadata": {
        "id": "HbJ309jDNQwD"
      }
    },
    {
      "cell_type": "code",
      "source": [
        "text = \"nice to meet you\"\n",
        "pre_text = re.sub('to','for',text)\n",
        "print(pre_text)"
      ],
      "metadata": {
        "colab": {
          "base_uri": "https://localhost:8080/"
        },
        "id": "6fvYyaCnNVgx",
        "outputId": "a6c1e24b-5566-497c-9294-fd8a123aa42c"
      },
      "execution_count": null,
      "outputs": [
        {
          "output_type": "stream",
          "name": "stdout",
          "text": [
            "nice for meet you\n"
          ]
        }
      ]
    },
    {
      "cell_type": "code",
      "source": [
        "#주민번호 뒷 번호 *******로 치환\n",
        "num = '000123 - 1234567'\n",
        "pattern = '-[0-9]{7}'\n",
        "print(re.sub(pattern,'-*******',num))"
      ],
      "metadata": {
        "colab": {
          "base_uri": "https://localhost:8080/"
        },
        "id": "zqdGrIGNN67S",
        "outputId": "cb63d5d2-759b-49f5-9d8d-dad17cfcf41a"
      },
      "execution_count": null,
      "outputs": [
        {
          "output_type": "stream",
          "name": "stdout",
          "text": [
            "000123 - 1234567\n"
          ]
        }
      ]
    },
    {
      "cell_type": "markdown",
      "source": [
        "## re.groupdict( ) : re.groupdict( ) 한수는 group의 이름을 키로, 패턴에 일치한 문자열을 값으로 하는 Dictionary를 반환한다."
      ],
      "metadata": {
        "id": "HFytIlOFPaBF"
      }
    },
    {
      "cell_type": "code",
      "source": [
        "m = re.match(r\"retp://(?P<IP>[0-9.]+):(?P<Port>[0-9]+)/([a-zA-Z])\", \"retp://111.112.113.114:9000/rtspTest\")\n",
        "print(m.groupdict())\n",
        "# {'IP': '111.112.113.114', 'Port': '9000'}"
      ],
      "metadata": {
        "colab": {
          "base_uri": "https://localhost:8080/"
        },
        "id": "mSu_H0UqPj4K",
        "outputId": "24fdf1ac-6947-4f25-90e3-9e523970434c"
      },
      "execution_count": null,
      "outputs": [
        {
          "output_type": "stream",
          "name": "stdout",
          "text": [
            "{'IP': '111.112.113.114', 'Port': '9000'}\n"
          ]
        }
      ]
    }
  ]
}