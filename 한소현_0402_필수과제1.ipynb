{
  "nbformat": 4,
  "nbformat_minor": 0,
  "metadata": {
    "colab": {
      "provenance": []
    },
    "kernelspec": {
      "name": "python3",
      "display_name": "Python 3"
    },
    "language_info": {
      "name": "python"
    }
  },
  "cells": [
    {
      "cell_type": "code",
      "execution_count": 1,
      "metadata": {
        "colab": {
          "base_uri": "https://localhost:8080/"
        },
        "id": "BnNgsfhItIEH",
        "outputId": "470ad4c9-b051-4a05-8242-e4d9031e726a"
      },
      "outputs": [
        {
          "output_type": "stream",
          "name": "stdout",
          "text": [
            "Mounted at /content/drive\n"
          ]
        }
      ],
      "source": [
        "import pandas as pd\n",
        "from google.colab import drive\n",
        "drive.mount('/content/drive')\n",
        "mpg = pd.read_csv('/content/drive/MyDrive/mpg.csv')"
      ]
    },
    {
      "cell_type": "code",
      "source": [
        "mpg"
      ],
      "metadata": {
        "colab": {
          "base_uri": "https://localhost:8080/",
          "height": 468
        },
        "id": "Ro2ZmpF0tlio",
        "outputId": "0600ea5f-0581-40cf-dd00-d0f9cedaccaa"
      },
      "execution_count": 2,
      "outputs": [
        {
          "output_type": "execute_result",
          "data": {
            "text/plain": [
              "    manufacturer   model  displ  year  cyl       trans drv  cty  hwy fl  \\\n",
              "0           audi      a4    1.8  1999    4    auto(l5)   f   18   29  p   \n",
              "1           audi      a4    1.8  1999    4  manual(m5)   f   21   29  p   \n",
              "2           audi      a4    2.0  2008    4  manual(m6)   f   20   31  p   \n",
              "3           audi      a4    2.0  2008    4    auto(av)   f   21   30  p   \n",
              "4           audi      a4    2.8  1999    6    auto(l5)   f   16   26  p   \n",
              "..           ...     ...    ...   ...  ...         ...  ..  ...  ... ..   \n",
              "229   volkswagen  passat    2.0  2008    4    auto(s6)   f   19   28  p   \n",
              "230   volkswagen  passat    2.0  2008    4  manual(m6)   f   21   29  p   \n",
              "231   volkswagen  passat    2.8  1999    6    auto(l5)   f   16   26  p   \n",
              "232   volkswagen  passat    2.8  1999    6  manual(m5)   f   18   26  p   \n",
              "233   volkswagen  passat    3.6  2008    6    auto(s6)   f   17   26  p   \n",
              "\n",
              "    category  \n",
              "0    compact  \n",
              "1    compact  \n",
              "2    compact  \n",
              "3    compact  \n",
              "4    compact  \n",
              "..       ...  \n",
              "229  midsize  \n",
              "230  midsize  \n",
              "231  midsize  \n",
              "232  midsize  \n",
              "233  midsize  \n",
              "\n",
              "[234 rows x 11 columns]"
            ],
            "text/html": [
              "\n",
              "  <div id=\"df-82602aba-c932-426e-8c8b-82cb792d6982\">\n",
              "    <div class=\"colab-df-container\">\n",
              "      <div>\n",
              "<style scoped>\n",
              "    .dataframe tbody tr th:only-of-type {\n",
              "        vertical-align: middle;\n",
              "    }\n",
              "\n",
              "    .dataframe tbody tr th {\n",
              "        vertical-align: top;\n",
              "    }\n",
              "\n",
              "    .dataframe thead th {\n",
              "        text-align: right;\n",
              "    }\n",
              "</style>\n",
              "<table border=\"1\" class=\"dataframe\">\n",
              "  <thead>\n",
              "    <tr style=\"text-align: right;\">\n",
              "      <th></th>\n",
              "      <th>manufacturer</th>\n",
              "      <th>model</th>\n",
              "      <th>displ</th>\n",
              "      <th>year</th>\n",
              "      <th>cyl</th>\n",
              "      <th>trans</th>\n",
              "      <th>drv</th>\n",
              "      <th>cty</th>\n",
              "      <th>hwy</th>\n",
              "      <th>fl</th>\n",
              "      <th>category</th>\n",
              "    </tr>\n",
              "  </thead>\n",
              "  <tbody>\n",
              "    <tr>\n",
              "      <th>0</th>\n",
              "      <td>audi</td>\n",
              "      <td>a4</td>\n",
              "      <td>1.8</td>\n",
              "      <td>1999</td>\n",
              "      <td>4</td>\n",
              "      <td>auto(l5)</td>\n",
              "      <td>f</td>\n",
              "      <td>18</td>\n",
              "      <td>29</td>\n",
              "      <td>p</td>\n",
              "      <td>compact</td>\n",
              "    </tr>\n",
              "    <tr>\n",
              "      <th>1</th>\n",
              "      <td>audi</td>\n",
              "      <td>a4</td>\n",
              "      <td>1.8</td>\n",
              "      <td>1999</td>\n",
              "      <td>4</td>\n",
              "      <td>manual(m5)</td>\n",
              "      <td>f</td>\n",
              "      <td>21</td>\n",
              "      <td>29</td>\n",
              "      <td>p</td>\n",
              "      <td>compact</td>\n",
              "    </tr>\n",
              "    <tr>\n",
              "      <th>2</th>\n",
              "      <td>audi</td>\n",
              "      <td>a4</td>\n",
              "      <td>2.0</td>\n",
              "      <td>2008</td>\n",
              "      <td>4</td>\n",
              "      <td>manual(m6)</td>\n",
              "      <td>f</td>\n",
              "      <td>20</td>\n",
              "      <td>31</td>\n",
              "      <td>p</td>\n",
              "      <td>compact</td>\n",
              "    </tr>\n",
              "    <tr>\n",
              "      <th>3</th>\n",
              "      <td>audi</td>\n",
              "      <td>a4</td>\n",
              "      <td>2.0</td>\n",
              "      <td>2008</td>\n",
              "      <td>4</td>\n",
              "      <td>auto(av)</td>\n",
              "      <td>f</td>\n",
              "      <td>21</td>\n",
              "      <td>30</td>\n",
              "      <td>p</td>\n",
              "      <td>compact</td>\n",
              "    </tr>\n",
              "    <tr>\n",
              "      <th>4</th>\n",
              "      <td>audi</td>\n",
              "      <td>a4</td>\n",
              "      <td>2.8</td>\n",
              "      <td>1999</td>\n",
              "      <td>6</td>\n",
              "      <td>auto(l5)</td>\n",
              "      <td>f</td>\n",
              "      <td>16</td>\n",
              "      <td>26</td>\n",
              "      <td>p</td>\n",
              "      <td>compact</td>\n",
              "    </tr>\n",
              "    <tr>\n",
              "      <th>...</th>\n",
              "      <td>...</td>\n",
              "      <td>...</td>\n",
              "      <td>...</td>\n",
              "      <td>...</td>\n",
              "      <td>...</td>\n",
              "      <td>...</td>\n",
              "      <td>...</td>\n",
              "      <td>...</td>\n",
              "      <td>...</td>\n",
              "      <td>...</td>\n",
              "      <td>...</td>\n",
              "    </tr>\n",
              "    <tr>\n",
              "      <th>229</th>\n",
              "      <td>volkswagen</td>\n",
              "      <td>passat</td>\n",
              "      <td>2.0</td>\n",
              "      <td>2008</td>\n",
              "      <td>4</td>\n",
              "      <td>auto(s6)</td>\n",
              "      <td>f</td>\n",
              "      <td>19</td>\n",
              "      <td>28</td>\n",
              "      <td>p</td>\n",
              "      <td>midsize</td>\n",
              "    </tr>\n",
              "    <tr>\n",
              "      <th>230</th>\n",
              "      <td>volkswagen</td>\n",
              "      <td>passat</td>\n",
              "      <td>2.0</td>\n",
              "      <td>2008</td>\n",
              "      <td>4</td>\n",
              "      <td>manual(m6)</td>\n",
              "      <td>f</td>\n",
              "      <td>21</td>\n",
              "      <td>29</td>\n",
              "      <td>p</td>\n",
              "      <td>midsize</td>\n",
              "    </tr>\n",
              "    <tr>\n",
              "      <th>231</th>\n",
              "      <td>volkswagen</td>\n",
              "      <td>passat</td>\n",
              "      <td>2.8</td>\n",
              "      <td>1999</td>\n",
              "      <td>6</td>\n",
              "      <td>auto(l5)</td>\n",
              "      <td>f</td>\n",
              "      <td>16</td>\n",
              "      <td>26</td>\n",
              "      <td>p</td>\n",
              "      <td>midsize</td>\n",
              "    </tr>\n",
              "    <tr>\n",
              "      <th>232</th>\n",
              "      <td>volkswagen</td>\n",
              "      <td>passat</td>\n",
              "      <td>2.8</td>\n",
              "      <td>1999</td>\n",
              "      <td>6</td>\n",
              "      <td>manual(m5)</td>\n",
              "      <td>f</td>\n",
              "      <td>18</td>\n",
              "      <td>26</td>\n",
              "      <td>p</td>\n",
              "      <td>midsize</td>\n",
              "    </tr>\n",
              "    <tr>\n",
              "      <th>233</th>\n",
              "      <td>volkswagen</td>\n",
              "      <td>passat</td>\n",
              "      <td>3.6</td>\n",
              "      <td>2008</td>\n",
              "      <td>6</td>\n",
              "      <td>auto(s6)</td>\n",
              "      <td>f</td>\n",
              "      <td>17</td>\n",
              "      <td>26</td>\n",
              "      <td>p</td>\n",
              "      <td>midsize</td>\n",
              "    </tr>\n",
              "  </tbody>\n",
              "</table>\n",
              "<p>234 rows × 11 columns</p>\n",
              "</div>\n",
              "      <button class=\"colab-df-convert\" onclick=\"convertToInteractive('df-82602aba-c932-426e-8c8b-82cb792d6982')\"\n",
              "              title=\"Convert this dataframe to an interactive table.\"\n",
              "              style=\"display:none;\">\n",
              "        \n",
              "  <svg xmlns=\"http://www.w3.org/2000/svg\" height=\"24px\"viewBox=\"0 0 24 24\"\n",
              "       width=\"24px\">\n",
              "    <path d=\"M0 0h24v24H0V0z\" fill=\"none\"/>\n",
              "    <path d=\"M18.56 5.44l.94 2.06.94-2.06 2.06-.94-2.06-.94-.94-2.06-.94 2.06-2.06.94zm-11 1L8.5 8.5l.94-2.06 2.06-.94-2.06-.94L8.5 2.5l-.94 2.06-2.06.94zm10 10l.94 2.06.94-2.06 2.06-.94-2.06-.94-.94-2.06-.94 2.06-2.06.94z\"/><path d=\"M17.41 7.96l-1.37-1.37c-.4-.4-.92-.59-1.43-.59-.52 0-1.04.2-1.43.59L10.3 9.45l-7.72 7.72c-.78.78-.78 2.05 0 2.83L4 21.41c.39.39.9.59 1.41.59.51 0 1.02-.2 1.41-.59l7.78-7.78 2.81-2.81c.8-.78.8-2.07 0-2.86zM5.41 20L4 18.59l7.72-7.72 1.47 1.35L5.41 20z\"/>\n",
              "  </svg>\n",
              "      </button>\n",
              "      \n",
              "  <style>\n",
              "    .colab-df-container {\n",
              "      display:flex;\n",
              "      flex-wrap:wrap;\n",
              "      gap: 12px;\n",
              "    }\n",
              "\n",
              "    .colab-df-convert {\n",
              "      background-color: #E8F0FE;\n",
              "      border: none;\n",
              "      border-radius: 50%;\n",
              "      cursor: pointer;\n",
              "      display: none;\n",
              "      fill: #1967D2;\n",
              "      height: 32px;\n",
              "      padding: 0 0 0 0;\n",
              "      width: 32px;\n",
              "    }\n",
              "\n",
              "    .colab-df-convert:hover {\n",
              "      background-color: #E2EBFA;\n",
              "      box-shadow: 0px 1px 2px rgba(60, 64, 67, 0.3), 0px 1px 3px 1px rgba(60, 64, 67, 0.15);\n",
              "      fill: #174EA6;\n",
              "    }\n",
              "\n",
              "    [theme=dark] .colab-df-convert {\n",
              "      background-color: #3B4455;\n",
              "      fill: #D2E3FC;\n",
              "    }\n",
              "\n",
              "    [theme=dark] .colab-df-convert:hover {\n",
              "      background-color: #434B5C;\n",
              "      box-shadow: 0px 1px 3px 1px rgba(0, 0, 0, 0.15);\n",
              "      filter: drop-shadow(0px 1px 2px rgba(0, 0, 0, 0.3));\n",
              "      fill: #FFFFFF;\n",
              "    }\n",
              "  </style>\n",
              "\n",
              "      <script>\n",
              "        const buttonEl =\n",
              "          document.querySelector('#df-82602aba-c932-426e-8c8b-82cb792d6982 button.colab-df-convert');\n",
              "        buttonEl.style.display =\n",
              "          google.colab.kernel.accessAllowed ? 'block' : 'none';\n",
              "\n",
              "        async function convertToInteractive(key) {\n",
              "          const element = document.querySelector('#df-82602aba-c932-426e-8c8b-82cb792d6982');\n",
              "          const dataTable =\n",
              "            await google.colab.kernel.invokeFunction('convertToInteractive',\n",
              "                                                     [key], {});\n",
              "          if (!dataTable) return;\n",
              "\n",
              "          const docLinkHtml = 'Like what you see? Visit the ' +\n",
              "            '<a target=\"_blank\" href=https://colab.research.google.com/notebooks/data_table.ipynb>data table notebook</a>'\n",
              "            + ' to learn more about interactive tables.';\n",
              "          element.innerHTML = '';\n",
              "          dataTable['output_type'] = 'display_data';\n",
              "          await google.colab.output.renderOutput(dataTable, element);\n",
              "          const docLink = document.createElement('div');\n",
              "          docLink.innerHTML = docLinkHtml;\n",
              "          element.appendChild(docLink);\n",
              "        }\n",
              "      </script>\n",
              "    </div>\n",
              "  </div>\n",
              "  "
            ]
          },
          "metadata": {},
          "execution_count": 2
        }
      ]
    },
    {
      "cell_type": "markdown",
      "source": [
        "#시리즈 메서드 활용\n",
        "\n",
        "##append 메서드 \n",
        "- 2개 이상의 시리즈 연결"
      ],
      "metadata": {
        "id": "FwVcU-Q-tbOf"
      }
    },
    {
      "cell_type": "code",
      "source": [
        "student = pd.Series(['홍길동',15], index=['name','age'])\n",
        "student = student.append(pd.Series(['김영희',25], index = ['name','age']))\n",
        "student"
      ],
      "metadata": {
        "colab": {
          "base_uri": "https://localhost:8080/"
        },
        "id": "C9DhLPMjti8e",
        "outputId": "a3ea624c-b2b0-4d32-9d5f-770e887d2f37"
      },
      "execution_count": 5,
      "outputs": [
        {
          "output_type": "stream",
          "name": "stderr",
          "text": [
            "<ipython-input-5-8c3a065184d3>:2: FutureWarning: The series.append method is deprecated and will be removed from pandas in a future version. Use pandas.concat instead.\n",
            "  student = student.append(pd.Series(['김영희',25], index = ['name','age']))\n"
          ]
        },
        {
          "output_type": "execute_result",
          "data": {
            "text/plain": [
              "name    홍길동\n",
              "age      15\n",
              "name    김영희\n",
              "age      25\n",
              "dtype: object"
            ]
          },
          "metadata": {},
          "execution_count": 5
        }
      ]
    },
    {
      "cell_type": "code",
      "source": [
        "student = student.append(pd.Series(['A','High'], index=['degree','class']))\n",
        "student"
      ],
      "metadata": {
        "colab": {
          "base_uri": "https://localhost:8080/"
        },
        "id": "_U5TvDMkvomA",
        "outputId": "7933e7c4-85fd-4f43-b599-3c01275ba05d"
      },
      "execution_count": 6,
      "outputs": [
        {
          "output_type": "stream",
          "name": "stderr",
          "text": [
            "<ipython-input-6-037acc84dcae>:1: FutureWarning: The series.append method is deprecated and will be removed from pandas in a future version. Use pandas.concat instead.\n",
            "  student = student.append(pd.Series(['A','High'], index=['degree','class']))\n"
          ]
        },
        {
          "output_type": "execute_result",
          "data": {
            "text/plain": [
              "name       홍길동\n",
              "age         15\n",
              "name       김영희\n",
              "age         25\n",
              "degree       A\n",
              "class     High\n",
              "dtype: object"
            ]
          },
          "metadata": {},
          "execution_count": 6
        }
      ]
    },
    {
      "cell_type": "markdown",
      "source": [
        "##describe 메서드 \n",
        "- 요약 통계량 계산 (연속형 데이터)"
      ],
      "metadata": {
        "id": "FDeeLsKJwBp4"
      }
    },
    {
      "cell_type": "code",
      "source": [
        "mpg.displ.describe()"
      ],
      "metadata": {
        "colab": {
          "base_uri": "https://localhost:8080/"
        },
        "id": "mFpJPNKawBYd",
        "outputId": "bf65db1b-47ae-423c-ff7a-8ed5e5e0afe7"
      },
      "execution_count": 7,
      "outputs": [
        {
          "output_type": "execute_result",
          "data": {
            "text/plain": [
              "count    234.000000\n",
              "mean       3.471795\n",
              "std        1.291959\n",
              "min        1.600000\n",
              "25%        2.400000\n",
              "50%        3.300000\n",
              "75%        4.600000\n",
              "max        7.000000\n",
              "Name: displ, dtype: float64"
            ]
          },
          "metadata": {},
          "execution_count": 7
        }
      ]
    },
    {
      "cell_type": "code",
      "source": [
        "mpg.year.describe()"
      ],
      "metadata": {
        "colab": {
          "base_uri": "https://localhost:8080/"
        },
        "id": "W_ZsbcDWweF9",
        "outputId": "55f4529f-3fc1-4ec1-c1b9-c1ce289be48f"
      },
      "execution_count": 8,
      "outputs": [
        {
          "output_type": "execute_result",
          "data": {
            "text/plain": [
              "count     234.000000\n",
              "mean     2003.500000\n",
              "std         4.509646\n",
              "min      1999.000000\n",
              "25%      1999.000000\n",
              "50%      2003.500000\n",
              "75%      2008.000000\n",
              "max      2008.000000\n",
              "Name: year, dtype: float64"
            ]
          },
          "metadata": {},
          "execution_count": 8
        }
      ]
    },
    {
      "cell_type": "code",
      "source": [
        "mpg.cyl.describe()"
      ],
      "metadata": {
        "colab": {
          "base_uri": "https://localhost:8080/"
        },
        "id": "tM1uZNBSwhM5",
        "outputId": "675e93d6-7067-48eb-f9f8-e77cad542b2b"
      },
      "execution_count": 9,
      "outputs": [
        {
          "output_type": "execute_result",
          "data": {
            "text/plain": [
              "count    234.000000\n",
              "mean       5.888889\n",
              "std        1.611534\n",
              "min        4.000000\n",
              "25%        4.000000\n",
              "50%        6.000000\n",
              "75%        8.000000\n",
              "max        8.000000\n",
              "Name: cyl, dtype: float64"
            ]
          },
          "metadata": {},
          "execution_count": 9
        }
      ]
    },
    {
      "cell_type": "code",
      "source": [
        "mpg.hwy.describe()"
      ],
      "metadata": {
        "colab": {
          "base_uri": "https://localhost:8080/"
        },
        "id": "RN2i95h8wjAw",
        "outputId": "2583f01f-42a5-40fb-fe3a-94c16eb522ef"
      },
      "execution_count": 10,
      "outputs": [
        {
          "output_type": "execute_result",
          "data": {
            "text/plain": [
              "count    234.000000\n",
              "mean      23.440171\n",
              "std        5.954643\n",
              "min       12.000000\n",
              "25%       18.000000\n",
              "50%       24.000000\n",
              "75%       27.000000\n",
              "max       44.000000\n",
              "Name: hwy, dtype: float64"
            ]
          },
          "metadata": {},
          "execution_count": 10
        }
      ]
    },
    {
      "cell_type": "markdown",
      "source": [
        "##drop_duplicates 메서드 \n",
        "- 중복값이 없는 시리즈 반환 (중복 값 제거)"
      ],
      "metadata": {
        "id": "iJqmV9YxwpaK"
      }
    },
    {
      "cell_type": "code",
      "source": [
        "mpg.manufacturer.drop_duplicates()"
      ],
      "metadata": {
        "colab": {
          "base_uri": "https://localhost:8080/"
        },
        "id": "wmkd9qjiwtGD",
        "outputId": "df85e9ee-cdb2-454e-bf91-2c4190dc60b4"
      },
      "execution_count": 11,
      "outputs": [
        {
          "output_type": "execute_result",
          "data": {
            "text/plain": [
              "0            audi\n",
              "18      chevrolet\n",
              "37          dodge\n",
              "74           ford\n",
              "99          honda\n",
              "108       hyundai\n",
              "122          jeep\n",
              "130    land rover\n",
              "134       lincoln\n",
              "137       mercury\n",
              "141        nissan\n",
              "154       pontiac\n",
              "159        subaru\n",
              "173        toyota\n",
              "207    volkswagen\n",
              "Name: manufacturer, dtype: object"
            ]
          },
          "metadata": {},
          "execution_count": 11
        }
      ]
    },
    {
      "cell_type": "code",
      "source": [
        "mpg.model.drop_duplicates()"
      ],
      "metadata": {
        "colab": {
          "base_uri": "https://localhost:8080/"
        },
        "id": "eTKAzEZ-w1wv",
        "outputId": "760cd2d7-b8e6-4038-e2f9-a120d6db802c"
      },
      "execution_count": 12,
      "outputs": [
        {
          "output_type": "execute_result",
          "data": {
            "text/plain": [
              "0                          a4\n",
              "7                  a4 quattro\n",
              "15                 a6 quattro\n",
              "18         c1500 suburban 2wd\n",
              "23                   corvette\n",
              "28            k1500 tahoe 4wd\n",
              "32                     malibu\n",
              "37                caravan 2wd\n",
              "48          dakota pickup 4wd\n",
              "57                durango 4wd\n",
              "64        ram 1500 pickup 4wd\n",
              "74             expedition 2wd\n",
              "77               explorer 4wd\n",
              "83            f150 pickup 4wd\n",
              "90                    mustang\n",
              "99                      civic\n",
              "108                    sonata\n",
              "115                   tiburon\n",
              "122        grand cherokee 4wd\n",
              "130               range rover\n",
              "134             navigator 2wd\n",
              "137           mountaineer 4wd\n",
              "141                    altima\n",
              "147                    maxima\n",
              "150            pathfinder 4wd\n",
              "154                grand prix\n",
              "159              forester awd\n",
              "165               impreza awd\n",
              "173               4runner 4wd\n",
              "179                     camry\n",
              "186              camry solara\n",
              "193                   corolla\n",
              "198    land cruiser wagon 4wd\n",
              "200         toyota tacoma 4wd\n",
              "207                       gti\n",
              "212                     jetta\n",
              "221                new beetle\n",
              "227                    passat\n",
              "Name: model, dtype: object"
            ]
          },
          "metadata": {},
          "execution_count": 12
        }
      ]
    },
    {
      "cell_type": "code",
      "source": [
        "mpg.displ.drop_duplicates()"
      ],
      "metadata": {
        "colab": {
          "base_uri": "https://localhost:8080/"
        },
        "id": "MWuvrdrIw-6r",
        "outputId": "2e45542e-79bc-4ee0-885a-ae98b5510bf2"
      },
      "execution_count": 13,
      "outputs": [
        {
          "output_type": "execute_result",
          "data": {
            "text/plain": [
              "0      1.8\n",
              "2      2.0\n",
              "4      2.8\n",
              "6      3.1\n",
              "17     4.2\n",
              "18     5.3\n",
              "21     5.7\n",
              "22     6.0\n",
              "25     6.2\n",
              "27     7.0\n",
              "31     6.5\n",
              "32     2.4\n",
              "35     3.5\n",
              "36     3.6\n",
              "38     3.0\n",
              "39     3.3\n",
              "44     3.8\n",
              "47     4.0\n",
              "48     3.7\n",
              "50     3.9\n",
              "52     4.7\n",
              "55     5.2\n",
              "63     5.9\n",
              "74     4.6\n",
              "75     5.4\n",
              "82     5.0\n",
              "99     1.6\n",
              "112    2.5\n",
              "119    2.7\n",
              "129    6.1\n",
              "132    4.4\n",
              "153    5.6\n",
              "165    2.2\n",
              "175    3.4\n",
              "212    1.9\n",
              "Name: displ, dtype: float64"
            ]
          },
          "metadata": {},
          "execution_count": 13
        }
      ]
    },
    {
      "cell_type": "code",
      "source": [
        "mpg.year.drop_duplicates()"
      ],
      "metadata": {
        "colab": {
          "base_uri": "https://localhost:8080/"
        },
        "id": "OJKdloUhxDY4",
        "outputId": "62750e06-5aac-43e2-9a8b-8a51985ee579"
      },
      "execution_count": 14,
      "outputs": [
        {
          "output_type": "execute_result",
          "data": {
            "text/plain": [
              "0    1999\n",
              "2    2008\n",
              "Name: year, dtype: int64"
            ]
          },
          "metadata": {},
          "execution_count": 14
        }
      ]
    },
    {
      "cell_type": "code",
      "source": [
        "mpg.cyl.drop_duplicates()"
      ],
      "metadata": {
        "colab": {
          "base_uri": "https://localhost:8080/"
        },
        "id": "7wAhP-ckxHhc",
        "outputId": "d6d97f60-b5d2-4652-afd2-dcb987c52838"
      },
      "execution_count": 15,
      "outputs": [
        {
          "output_type": "execute_result",
          "data": {
            "text/plain": [
              "0      4\n",
              "4      6\n",
              "17     8\n",
              "217    5\n",
              "Name: cyl, dtype: int64"
            ]
          },
          "metadata": {},
          "execution_count": 15
        }
      ]
    },
    {
      "cell_type": "code",
      "source": [
        "mpg.trans.drop_duplicates()"
      ],
      "metadata": {
        "colab": {
          "base_uri": "https://localhost:8080/"
        },
        "id": "r5pkMDVNxMLn",
        "outputId": "24c15a92-6fba-4196-d83f-11c70ab2f60d"
      },
      "execution_count": 16,
      "outputs": [
        {
          "output_type": "execute_result",
          "data": {
            "text/plain": [
              "0        auto(l5)\n",
              "1      manual(m5)\n",
              "2      manual(m6)\n",
              "3        auto(av)\n",
              "10       auto(s6)\n",
              "18       auto(l4)\n",
              "37       auto(l3)\n",
              "46       auto(l6)\n",
              "153      auto(s5)\n",
              "158      auto(s4)\n",
              "Name: trans, dtype: object"
            ]
          },
          "metadata": {},
          "execution_count": 16
        }
      ]
    },
    {
      "cell_type": "code",
      "source": [
        "mpg.fl.drop_duplicates()"
      ],
      "metadata": {
        "colab": {
          "base_uri": "https://localhost:8080/"
        },
        "id": "FoPggqePxQa-",
        "outputId": "eff6066d-efe4-49e1-eb64-a7959a5e2764"
      },
      "execution_count": 17,
      "outputs": [
        {
          "output_type": "execute_result",
          "data": {
            "text/plain": [
              "0      p\n",
              "18     r\n",
              "19     e\n",
              "31     d\n",
              "106    c\n",
              "Name: fl, dtype: object"
            ]
          },
          "metadata": {},
          "execution_count": 17
        }
      ]
    },
    {
      "cell_type": "code",
      "source": [
        "mpg.category.drop_duplicates()"
      ],
      "metadata": {
        "colab": {
          "base_uri": "https://localhost:8080/"
        },
        "id": "7GGmOxdAxShF",
        "outputId": "2526d718-3858-4e9a-b54b-796853fed68f"
      },
      "execution_count": 18,
      "outputs": [
        {
          "output_type": "execute_result",
          "data": {
            "text/plain": [
              "0        compact\n",
              "15       midsize\n",
              "18           suv\n",
              "23       2seater\n",
              "37       minivan\n",
              "48        pickup\n",
              "90    subcompact\n",
              "Name: category, dtype: object"
            ]
          },
          "metadata": {},
          "execution_count": 18
        }
      ]
    },
    {
      "cell_type": "markdown",
      "source": [
        "##get_values 메서드 \n",
        "- 시리즈 값 구하기 (values 속성과 동일)"
      ],
      "metadata": {
        "id": "TEmObjQMxXzX"
      }
    },
    {
      "cell_type": "code",
      "source": [
        "mpg.model.values"
      ],
      "metadata": {
        "colab": {
          "base_uri": "https://localhost:8080/"
        },
        "id": "dw0WHxqxzR9O",
        "outputId": "aec20f9d-a0a2-4fec-a340-0986bba99dfb"
      },
      "execution_count": 24,
      "outputs": [
        {
          "output_type": "execute_result",
          "data": {
            "text/plain": [
              "array(['a4', 'a4', 'a4', 'a4', 'a4', 'a4', 'a4', 'a4 quattro',\n",
              "       'a4 quattro', 'a4 quattro', 'a4 quattro', 'a4 quattro',\n",
              "       'a4 quattro', 'a4 quattro', 'a4 quattro', 'a6 quattro',\n",
              "       'a6 quattro', 'a6 quattro', 'c1500 suburban 2wd',\n",
              "       'c1500 suburban 2wd', 'c1500 suburban 2wd', 'c1500 suburban 2wd',\n",
              "       'c1500 suburban 2wd', 'corvette', 'corvette', 'corvette',\n",
              "       'corvette', 'corvette', 'k1500 tahoe 4wd', 'k1500 tahoe 4wd',\n",
              "       'k1500 tahoe 4wd', 'k1500 tahoe 4wd', 'malibu', 'malibu', 'malibu',\n",
              "       'malibu', 'malibu', 'caravan 2wd', 'caravan 2wd', 'caravan 2wd',\n",
              "       'caravan 2wd', 'caravan 2wd', 'caravan 2wd', 'caravan 2wd',\n",
              "       'caravan 2wd', 'caravan 2wd', 'caravan 2wd', 'caravan 2wd',\n",
              "       'dakota pickup 4wd', 'dakota pickup 4wd', 'dakota pickup 4wd',\n",
              "       'dakota pickup 4wd', 'dakota pickup 4wd', 'dakota pickup 4wd',\n",
              "       'dakota pickup 4wd', 'dakota pickup 4wd', 'dakota pickup 4wd',\n",
              "       'durango 4wd', 'durango 4wd', 'durango 4wd', 'durango 4wd',\n",
              "       'durango 4wd', 'durango 4wd', 'durango 4wd', 'ram 1500 pickup 4wd',\n",
              "       'ram 1500 pickup 4wd', 'ram 1500 pickup 4wd',\n",
              "       'ram 1500 pickup 4wd', 'ram 1500 pickup 4wd',\n",
              "       'ram 1500 pickup 4wd', 'ram 1500 pickup 4wd',\n",
              "       'ram 1500 pickup 4wd', 'ram 1500 pickup 4wd',\n",
              "       'ram 1500 pickup 4wd', 'expedition 2wd', 'expedition 2wd',\n",
              "       'expedition 2wd', 'explorer 4wd', 'explorer 4wd', 'explorer 4wd',\n",
              "       'explorer 4wd', 'explorer 4wd', 'explorer 4wd', 'f150 pickup 4wd',\n",
              "       'f150 pickup 4wd', 'f150 pickup 4wd', 'f150 pickup 4wd',\n",
              "       'f150 pickup 4wd', 'f150 pickup 4wd', 'f150 pickup 4wd', 'mustang',\n",
              "       'mustang', 'mustang', 'mustang', 'mustang', 'mustang', 'mustang',\n",
              "       'mustang', 'mustang', 'civic', 'civic', 'civic', 'civic', 'civic',\n",
              "       'civic', 'civic', 'civic', 'civic', 'sonata', 'sonata', 'sonata',\n",
              "       'sonata', 'sonata', 'sonata', 'sonata', 'tiburon', 'tiburon',\n",
              "       'tiburon', 'tiburon', 'tiburon', 'tiburon', 'tiburon',\n",
              "       'grand cherokee 4wd', 'grand cherokee 4wd', 'grand cherokee 4wd',\n",
              "       'grand cherokee 4wd', 'grand cherokee 4wd', 'grand cherokee 4wd',\n",
              "       'grand cherokee 4wd', 'grand cherokee 4wd', 'range rover',\n",
              "       'range rover', 'range rover', 'range rover', 'navigator 2wd',\n",
              "       'navigator 2wd', 'navigator 2wd', 'mountaineer 4wd',\n",
              "       'mountaineer 4wd', 'mountaineer 4wd', 'mountaineer 4wd', 'altima',\n",
              "       'altima', 'altima', 'altima', 'altima', 'altima', 'maxima',\n",
              "       'maxima', 'maxima', 'pathfinder 4wd', 'pathfinder 4wd',\n",
              "       'pathfinder 4wd', 'pathfinder 4wd', 'grand prix', 'grand prix',\n",
              "       'grand prix', 'grand prix', 'grand prix', 'forester awd',\n",
              "       'forester awd', 'forester awd', 'forester awd', 'forester awd',\n",
              "       'forester awd', 'impreza awd', 'impreza awd', 'impreza awd',\n",
              "       'impreza awd', 'impreza awd', 'impreza awd', 'impreza awd',\n",
              "       'impreza awd', '4runner 4wd', '4runner 4wd', '4runner 4wd',\n",
              "       '4runner 4wd', '4runner 4wd', '4runner 4wd', 'camry', 'camry',\n",
              "       'camry', 'camry', 'camry', 'camry', 'camry', 'camry solara',\n",
              "       'camry solara', 'camry solara', 'camry solara', 'camry solara',\n",
              "       'camry solara', 'camry solara', 'corolla', 'corolla', 'corolla',\n",
              "       'corolla', 'corolla', 'land cruiser wagon 4wd',\n",
              "       'land cruiser wagon 4wd', 'toyota tacoma 4wd', 'toyota tacoma 4wd',\n",
              "       'toyota tacoma 4wd', 'toyota tacoma 4wd', 'toyota tacoma 4wd',\n",
              "       'toyota tacoma 4wd', 'toyota tacoma 4wd', 'gti', 'gti', 'gti',\n",
              "       'gti', 'gti', 'jetta', 'jetta', 'jetta', 'jetta', 'jetta', 'jetta',\n",
              "       'jetta', 'jetta', 'jetta', 'new beetle', 'new beetle',\n",
              "       'new beetle', 'new beetle', 'new beetle', 'new beetle', 'passat',\n",
              "       'passat', 'passat', 'passat', 'passat', 'passat', 'passat'],\n",
              "      dtype=object)"
            ]
          },
          "metadata": {},
          "execution_count": 24
        }
      ]
    },
    {
      "cell_type": "markdown",
      "source": [
        "##isin 메서드 \n",
        "- 시리즈에 포함 된 값이 있는지 확인 (True, False로 반환)"
      ],
      "metadata": {
        "id": "VWebgYMlzZ1T"
      }
    },
    {
      "cell_type": "code",
      "source": [
        "mpg.model.isin(['passat'])"
      ],
      "metadata": {
        "colab": {
          "base_uri": "https://localhost:8080/"
        },
        "id": "ANu45Fb9z7T2",
        "outputId": "01e67cd9-6dd2-46bc-8d18-2c75519821ac"
      },
      "execution_count": 25,
      "outputs": [
        {
          "output_type": "execute_result",
          "data": {
            "text/plain": [
              "0      False\n",
              "1      False\n",
              "2      False\n",
              "3      False\n",
              "4      False\n",
              "       ...  \n",
              "229     True\n",
              "230     True\n",
              "231     True\n",
              "232     True\n",
              "233     True\n",
              "Name: model, Length: 234, dtype: bool"
            ]
          },
          "metadata": {},
          "execution_count": 25
        }
      ]
    },
    {
      "cell_type": "markdown",
      "source": [
        "##기초 통계량 메서드\n",
        "- mean 평균 \n",
        "- min 최솟값\n",
        "- max 최댓값\n",
        "- median 중위값\n",
        "- std 표준편차\u001c"
      ],
      "metadata": {
        "id": "N_2BHlJ90Z0i"
      }
    },
    {
      "cell_type": "code",
      "source": [
        "mpg.displ.mean()"
      ],
      "metadata": {
        "colab": {
          "base_uri": "https://localhost:8080/"
        },
        "id": "jElvB4mA0Zeq",
        "outputId": "b3110056-55d2-40cb-824c-ef63dd347d1c"
      },
      "execution_count": 26,
      "outputs": [
        {
          "output_type": "execute_result",
          "data": {
            "text/plain": [
              "3.4717948717948723"
            ]
          },
          "metadata": {},
          "execution_count": 26
        }
      ]
    },
    {
      "cell_type": "code",
      "source": [
        "mpg.displ.min()"
      ],
      "metadata": {
        "colab": {
          "base_uri": "https://localhost:8080/"
        },
        "id": "cY96Yy2T0uDX",
        "outputId": "95e6784d-84bf-410a-98e8-2576784d05f0"
      },
      "execution_count": 27,
      "outputs": [
        {
          "output_type": "execute_result",
          "data": {
            "text/plain": [
              "1.6"
            ]
          },
          "metadata": {},
          "execution_count": 27
        }
      ]
    },
    {
      "cell_type": "code",
      "source": [
        "mpg.displ.max()"
      ],
      "metadata": {
        "colab": {
          "base_uri": "https://localhost:8080/"
        },
        "id": "2i7792cG0v4U",
        "outputId": "0d12ea42-abba-467e-d2bf-b3bf13d53cc7"
      },
      "execution_count": 28,
      "outputs": [
        {
          "output_type": "execute_result",
          "data": {
            "text/plain": [
              "7.0"
            ]
          },
          "metadata": {},
          "execution_count": 28
        }
      ]
    },
    {
      "cell_type": "code",
      "source": [
        "mpg.displ.median()"
      ],
      "metadata": {
        "colab": {
          "base_uri": "https://localhost:8080/"
        },
        "id": "cklEBK9Q0zoK",
        "outputId": "56414f48-966b-4d7e-c19f-a5fb81281553"
      },
      "execution_count": 29,
      "outputs": [
        {
          "output_type": "execute_result",
          "data": {
            "text/plain": [
              "3.3"
            ]
          },
          "metadata": {},
          "execution_count": 29
        }
      ]
    },
    {
      "cell_type": "code",
      "source": [
        "mpg.displ.std()"
      ],
      "metadata": {
        "colab": {
          "base_uri": "https://localhost:8080/"
        },
        "id": "6lc3fBlz01sc",
        "outputId": "90182d9d-2d6c-4b46-ad3a-ba5cbdf00397"
      },
      "execution_count": 30,
      "outputs": [
        {
          "output_type": "execute_result",
          "data": {
            "text/plain": [
              "1.2919590310839348"
            ]
          },
          "metadata": {},
          "execution_count": 30
        }
      ]
    },
    {
      "cell_type": "markdown",
      "source": [
        "##replace\n",
        "- 특정 값을 가진 시리즈 값을 교체"
      ],
      "metadata": {
        "id": "y5gr5YWD08Ha"
      }
    },
    {
      "cell_type": "code",
      "source": [
        "student.replace({'김영희':'김철수'})"
      ],
      "metadata": {
        "colab": {
          "base_uri": "https://localhost:8080/"
        },
        "id": "2G2TF2ld1BZb",
        "outputId": "66bc86b0-89b6-4fc5-a264-9cee7af9f9b1"
      },
      "execution_count": 32,
      "outputs": [
        {
          "output_type": "execute_result",
          "data": {
            "text/plain": [
              "name       홍길동\n",
              "age         15\n",
              "name       김철수\n",
              "age         25\n",
              "degree       A\n",
              "class     High\n",
              "dtype: object"
            ]
          },
          "metadata": {},
          "execution_count": 32
        }
      ]
    },
    {
      "cell_type": "markdown",
      "source": [
        "##equals\n",
        "- \b두 객체가 완벽하게 동일한지를 확인하는 메서드"
      ],
      "metadata": {
        "id": "ggI1k5NM27I1"
      }
    },
    {
      "cell_type": "code",
      "source": [
        "student_ex = pd.Series(['홍길동',15], index=['name','age'])\n",
        "student.equals(student_ex)"
      ],
      "metadata": {
        "colab": {
          "base_uri": "https://localhost:8080/"
        },
        "id": "S7-zVAMw3TjJ",
        "outputId": "ef178f93-a69e-470f-f9c0-b4d25aa16475"
      },
      "execution_count": 40,
      "outputs": [
        {
          "output_type": "execute_result",
          "data": {
            "text/plain": [
              "False"
            ]
          },
          "metadata": {},
          "execution_count": 40
        }
      ]
    },
    {
      "cell_type": "markdown",
      "source": [
        "##sort_values\n",
        "- 값 정렬"
      ],
      "metadata": {
        "id": "4GOpwHGY4NSD"
      }
    },
    {
      "cell_type": "code",
      "source": [
        "mpg.displ.sort_values()"
      ],
      "metadata": {
        "colab": {
          "base_uri": "https://localhost:8080/"
        },
        "id": "AXBrrJ7E4Vo8",
        "outputId": "3c1ede10-3344-48d6-c89e-d8746854336d"
      },
      "execution_count": 41,
      "outputs": [
        {
          "output_type": "execute_result",
          "data": {
            "text/plain": [
              "99     1.6\n",
              "101    1.6\n",
              "102    1.6\n",
              "103    1.6\n",
              "100    1.6\n",
              "      ... \n",
              "129    6.1\n",
              "25     6.2\n",
              "26     6.2\n",
              "31     6.5\n",
              "27     7.0\n",
              "Name: displ, Length: 234, dtype: float64"
            ]
          },
          "metadata": {},
          "execution_count": 41
        }
      ]
    },
    {
      "cell_type": "markdown",
      "source": [
        "##to_frame\n",
        "- 시리즈를 데이터프레임으로 변환"
      ],
      "metadata": {
        "id": "e7wl0IRP4RPs"
      }
    },
    {
      "cell_type": "code",
      "source": [
        "student_f = student_ex.to_frame()\n",
        "student_f"
      ],
      "metadata": {
        "colab": {
          "base_uri": "https://localhost:8080/",
          "height": 112
        },
        "id": "jTnFjn0r41BG",
        "outputId": "28210126-70d4-4de0-d23b-5d4d7b5867f6"
      },
      "execution_count": 45,
      "outputs": [
        {
          "output_type": "execute_result",
          "data": {
            "text/plain": [
              "        0\n",
              "name  홍길동\n",
              "age    15"
            ],
            "text/html": [
              "\n",
              "  <div id=\"df-78eee1ff-9a04-4532-bb01-588ded04c1b4\">\n",
              "    <div class=\"colab-df-container\">\n",
              "      <div>\n",
              "<style scoped>\n",
              "    .dataframe tbody tr th:only-of-type {\n",
              "        vertical-align: middle;\n",
              "    }\n",
              "\n",
              "    .dataframe tbody tr th {\n",
              "        vertical-align: top;\n",
              "    }\n",
              "\n",
              "    .dataframe thead th {\n",
              "        text-align: right;\n",
              "    }\n",
              "</style>\n",
              "<table border=\"1\" class=\"dataframe\">\n",
              "  <thead>\n",
              "    <tr style=\"text-align: right;\">\n",
              "      <th></th>\n",
              "      <th>0</th>\n",
              "    </tr>\n",
              "  </thead>\n",
              "  <tbody>\n",
              "    <tr>\n",
              "      <th>name</th>\n",
              "      <td>홍길동</td>\n",
              "    </tr>\n",
              "    <tr>\n",
              "      <th>age</th>\n",
              "      <td>15</td>\n",
              "    </tr>\n",
              "  </tbody>\n",
              "</table>\n",
              "</div>\n",
              "      <button class=\"colab-df-convert\" onclick=\"convertToInteractive('df-78eee1ff-9a04-4532-bb01-588ded04c1b4')\"\n",
              "              title=\"Convert this dataframe to an interactive table.\"\n",
              "              style=\"display:none;\">\n",
              "        \n",
              "  <svg xmlns=\"http://www.w3.org/2000/svg\" height=\"24px\"viewBox=\"0 0 24 24\"\n",
              "       width=\"24px\">\n",
              "    <path d=\"M0 0h24v24H0V0z\" fill=\"none\"/>\n",
              "    <path d=\"M18.56 5.44l.94 2.06.94-2.06 2.06-.94-2.06-.94-.94-2.06-.94 2.06-2.06.94zm-11 1L8.5 8.5l.94-2.06 2.06-.94-2.06-.94L8.5 2.5l-.94 2.06-2.06.94zm10 10l.94 2.06.94-2.06 2.06-.94-2.06-.94-.94-2.06-.94 2.06-2.06.94z\"/><path d=\"M17.41 7.96l-1.37-1.37c-.4-.4-.92-.59-1.43-.59-.52 0-1.04.2-1.43.59L10.3 9.45l-7.72 7.72c-.78.78-.78 2.05 0 2.83L4 21.41c.39.39.9.59 1.41.59.51 0 1.02-.2 1.41-.59l7.78-7.78 2.81-2.81c.8-.78.8-2.07 0-2.86zM5.41 20L4 18.59l7.72-7.72 1.47 1.35L5.41 20z\"/>\n",
              "  </svg>\n",
              "      </button>\n",
              "      \n",
              "  <style>\n",
              "    .colab-df-container {\n",
              "      display:flex;\n",
              "      flex-wrap:wrap;\n",
              "      gap: 12px;\n",
              "    }\n",
              "\n",
              "    .colab-df-convert {\n",
              "      background-color: #E8F0FE;\n",
              "      border: none;\n",
              "      border-radius: 50%;\n",
              "      cursor: pointer;\n",
              "      display: none;\n",
              "      fill: #1967D2;\n",
              "      height: 32px;\n",
              "      padding: 0 0 0 0;\n",
              "      width: 32px;\n",
              "    }\n",
              "\n",
              "    .colab-df-convert:hover {\n",
              "      background-color: #E2EBFA;\n",
              "      box-shadow: 0px 1px 2px rgba(60, 64, 67, 0.3), 0px 1px 3px 1px rgba(60, 64, 67, 0.15);\n",
              "      fill: #174EA6;\n",
              "    }\n",
              "\n",
              "    [theme=dark] .colab-df-convert {\n",
              "      background-color: #3B4455;\n",
              "      fill: #D2E3FC;\n",
              "    }\n",
              "\n",
              "    [theme=dark] .colab-df-convert:hover {\n",
              "      background-color: #434B5C;\n",
              "      box-shadow: 0px 1px 3px 1px rgba(0, 0, 0, 0.15);\n",
              "      filter: drop-shadow(0px 1px 2px rgba(0, 0, 0, 0.3));\n",
              "      fill: #FFFFFF;\n",
              "    }\n",
              "  </style>\n",
              "\n",
              "      <script>\n",
              "        const buttonEl =\n",
              "          document.querySelector('#df-78eee1ff-9a04-4532-bb01-588ded04c1b4 button.colab-df-convert');\n",
              "        buttonEl.style.display =\n",
              "          google.colab.kernel.accessAllowed ? 'block' : 'none';\n",
              "\n",
              "        async function convertToInteractive(key) {\n",
              "          const element = document.querySelector('#df-78eee1ff-9a04-4532-bb01-588ded04c1b4');\n",
              "          const dataTable =\n",
              "            await google.colab.kernel.invokeFunction('convertToInteractive',\n",
              "                                                     [key], {});\n",
              "          if (!dataTable) return;\n",
              "\n",
              "          const docLinkHtml = 'Like what you see? Visit the ' +\n",
              "            '<a target=\"_blank\" href=https://colab.research.google.com/notebooks/data_table.ipynb>data table notebook</a>'\n",
              "            + ' to learn more about interactive tables.';\n",
              "          element.innerHTML = '';\n",
              "          dataTable['output_type'] = 'display_data';\n",
              "          await google.colab.output.renderOutput(dataTable, element);\n",
              "          const docLink = document.createElement('div');\n",
              "          docLink.innerHTML = docLinkHtml;\n",
              "          element.appendChild(docLink);\n",
              "        }\n",
              "      </script>\n",
              "    </div>\n",
              "  </div>\n",
              "  "
            ]
          },
          "metadata": {},
          "execution_count": 45
        }
      ]
    }
  ]
}