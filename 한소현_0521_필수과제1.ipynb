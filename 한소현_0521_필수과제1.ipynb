{
  "nbformat": 4,
  "nbformat_minor": 0,
  "metadata": {
    "colab": {
      "provenance": []
    },
    "kernelspec": {
      "name": "python3",
      "display_name": "Python 3"
    },
    "language_info": {
      "name": "python"
    }
  },
  "cells": [
    {
      "cell_type": "markdown",
      "source": [
        "- 시계열데이터 문법\n",
        "- offsets, first 근로기준의 날 뽑을 수도 있고, 첫주의 월요일만 뽑을 수 있고 \n",
        "- 리서치 하셔서 정리하시고 최소 5개 이상 문법 찾아서 코드와 주석처리 해주시면 됩니다."
      ],
      "metadata": {
        "id": "4f-9OC5z6vlc"
      }
    },
    {
      "cell_type": "code",
      "execution_count": null,
      "metadata": {
        "colab": {
          "base_uri": "https://localhost:8080/"
        },
        "id": "hFbRo6xr6syy",
        "outputId": "20103f32-2676-47d9-ee68-403e7b680522"
      },
      "outputs": [
        {
          "output_type": "stream",
          "name": "stdout",
          "text": [
            "Mounted at /content/drive\n"
          ]
        }
      ],
      "source": [
        "import pandas as pd\n",
        "import datetime\n",
        "from google.colab import drive\n",
        "drive.mount('/content/drive')"
      ]
    },
    {
      "cell_type": "code",
      "source": [
        "crime = pd.read_csv('/content/drive/MyDrive/DATA/crime.csv')"
      ],
      "metadata": {
        "id": "iMRrIXMH8WYk"
      },
      "execution_count": null,
      "outputs": []
    },
    {
      "cell_type": "markdown",
      "source": [
        "- 시계열 자료 : 인덱스가 날짜 혹은 시간인 데이터\n",
        "- 판다스에서 시계열 자료를 생성하려면 인덱스를 DatetimeIndex 자료형으로 만들어야 한다.\n",
        "- DatetimeIndex는 특정한 순간에 기록된 타임스탬프 형식의 시계열 자료를 다루기 위한 인덱스\n",
        "- 타임스탬프 인덱스의 라벨 값이 반드시 일정한 간격일 필요는 없다."
      ],
      "metadata": {
        "id": "Ktr4VEN6D7M7"
      }
    },
    {
      "cell_type": "markdown",
      "source": [
        "### DatetimeIndex\n",
        "- pd.to_datetime : 날짜/시간을 나타내는 문자열을 자동으로 datetime 자료형으로 바꾼 후 DatetimeIndex 자료형 인덱스 생성\n",
        "- pd.date_range : 모든 날짜/시간을 일일히 입력할 필요없이 시작일과 종요일 또는 시작일과 기간을 입력하면 범위 내의 인덱스를 생성"
      ],
      "metadata": {
        "id": "vnXymnLOELO9"
      }
    },
    {
      "cell_type": "code",
      "source": [
        "date_str = [\"2018, 1, 1\", \"2018, 1, 4\", \"2018, 1, 5\", \"2018, 1, 6\"]\n",
        "idx = pd.to_datetime(date_str)\n",
        "idx"
      ],
      "metadata": {
        "colab": {
          "base_uri": "https://localhost:8080/"
        },
        "id": "s6RmbFNiEbJA",
        "outputId": "aea15dc5-8235-4184-db4d-d80409c79c69"
      },
      "execution_count": null,
      "outputs": [
        {
          "output_type": "execute_result",
          "data": {
            "text/plain": [
              "DatetimeIndex(['2018-01-01', '2018-01-04', '2018-01-05', '2018-01-06'], dtype='datetime64[ns]', freq=None)"
            ]
          },
          "metadata": {},
          "execution_count": 3
        }
      ]
    },
    {
      "cell_type": "code",
      "source": [
        "import numpy as np"
      ],
      "metadata": {
        "id": "UcUpnBQ8Esdu"
      },
      "execution_count": null,
      "outputs": []
    },
    {
      "cell_type": "code",
      "source": [
        "np.random.seed(0)\n",
        "s = pd.Series(np.random.randn(4), index=idx)\n",
        "s"
      ],
      "metadata": {
        "colab": {
          "base_uri": "https://localhost:8080/"
        },
        "id": "aFWQjFLREq6w",
        "outputId": "f8396696-7c68-42e7-f84f-4ee7d325aa1b"
      },
      "execution_count": null,
      "outputs": [
        {
          "output_type": "execute_result",
          "data": {
            "text/plain": [
              "2018-01-01    1.764052\n",
              "2018-01-04    0.400157\n",
              "2018-01-05    0.978738\n",
              "2018-01-06    2.240893\n",
              "dtype: float64"
            ]
          },
          "metadata": {},
          "execution_count": 5
        }
      ]
    },
    {
      "cell_type": "code",
      "source": [
        "pd.date_range(\"2018-4-1\", \"2018-4-30\")"
      ],
      "metadata": {
        "colab": {
          "base_uri": "https://localhost:8080/"
        },
        "id": "P3OyNTk_ElCc",
        "outputId": "6cafc0d1-2e83-4c54-da7f-665f8926b297"
      },
      "execution_count": null,
      "outputs": [
        {
          "output_type": "execute_result",
          "data": {
            "text/plain": [
              "DatetimeIndex(['2018-04-01', '2018-04-02', '2018-04-03', '2018-04-04',\n",
              "               '2018-04-05', '2018-04-06', '2018-04-07', '2018-04-08',\n",
              "               '2018-04-09', '2018-04-10', '2018-04-11', '2018-04-12',\n",
              "               '2018-04-13', '2018-04-14', '2018-04-15', '2018-04-16',\n",
              "               '2018-04-17', '2018-04-18', '2018-04-19', '2018-04-20',\n",
              "               '2018-04-21', '2018-04-22', '2018-04-23', '2018-04-24',\n",
              "               '2018-04-25', '2018-04-26', '2018-04-27', '2018-04-28',\n",
              "               '2018-04-29', '2018-04-30'],\n",
              "              dtype='datetime64[ns]', freq='D')"
            ]
          },
          "metadata": {},
          "execution_count": 6
        }
      ]
    },
    {
      "cell_type": "code",
      "source": [
        "pd.date_range(start=\"2018-4-1\", periods=30)"
      ],
      "metadata": {
        "colab": {
          "base_uri": "https://localhost:8080/"
        },
        "id": "GuuuoH5HE4vq",
        "outputId": "7691f52c-6e56-4664-812f-78c553646d58"
      },
      "execution_count": null,
      "outputs": [
        {
          "output_type": "execute_result",
          "data": {
            "text/plain": [
              "DatetimeIndex(['2018-04-01', '2018-04-02', '2018-04-03', '2018-04-04',\n",
              "               '2018-04-05', '2018-04-06', '2018-04-07', '2018-04-08',\n",
              "               '2018-04-09', '2018-04-10', '2018-04-11', '2018-04-12',\n",
              "               '2018-04-13', '2018-04-14', '2018-04-15', '2018-04-16',\n",
              "               '2018-04-17', '2018-04-18', '2018-04-19', '2018-04-20',\n",
              "               '2018-04-21', '2018-04-22', '2018-04-23', '2018-04-24',\n",
              "               '2018-04-25', '2018-04-26', '2018-04-27', '2018-04-28',\n",
              "               '2018-04-29', '2018-04-30'],\n",
              "              dtype='datetime64[ns]', freq='D')"
            ]
          },
          "metadata": {},
          "execution_count": 7
        }
      ]
    },
    {
      "cell_type": "markdown",
      "source": [
        "### freq인수로 특정한 날짜만 생성\n",
        "- s : 초\n",
        "- T : 분\n",
        "- H : 시간\n",
        "- D : 일(day)\n",
        "- B : 주말이 아닌 평일\n",
        "- W : 주(일요일)\n",
        "- W-MON : 주(월요일)\n",
        "- M : 각 달(month)의 마지막 날\n",
        "- MS : 각 달의 첫날\n",
        "- BM : 주말이 아닌 평일 중에서 각 달의 마지막 날\n",
        "- BMS : 주말이 아닌 평일 중에서 각 달의 첫날\n",
        "- WOM-2THU : 각 달의 두번째 목요일\n",
        "- Q-JAN : 각 분기의 첫달의 마지막 날\n",
        "- Q-DEC : 각 분기의 마지막 달의 마지막 날"
      ],
      "metadata": {
        "id": "6uQplCV6E6Tp"
      }
    },
    {
      "cell_type": "code",
      "source": [
        "pd.date_range(\"2018-4-1\", \"2018-4-30\", freq=\"B\")"
      ],
      "metadata": {
        "colab": {
          "base_uri": "https://localhost:8080/"
        },
        "id": "R2bDAGM4FYOa",
        "outputId": "076be967-918c-4a35-b161-9b0f3ae05355"
      },
      "execution_count": null,
      "outputs": [
        {
          "output_type": "execute_result",
          "data": {
            "text/plain": [
              "DatetimeIndex(['2018-04-02', '2018-04-03', '2018-04-04', '2018-04-05',\n",
              "               '2018-04-06', '2018-04-09', '2018-04-10', '2018-04-11',\n",
              "               '2018-04-12', '2018-04-13', '2018-04-16', '2018-04-17',\n",
              "               '2018-04-18', '2018-04-19', '2018-04-20', '2018-04-23',\n",
              "               '2018-04-24', '2018-04-25', '2018-04-26', '2018-04-27',\n",
              "               '2018-04-30'],\n",
              "              dtype='datetime64[ns]', freq='B')"
            ]
          },
          "metadata": {},
          "execution_count": 9
        }
      ]
    },
    {
      "cell_type": "code",
      "source": [
        "pd.date_range(\"2018-4-1\", \"2018-4-30\", freq=\"W\")"
      ],
      "metadata": {
        "colab": {
          "base_uri": "https://localhost:8080/"
        },
        "id": "0oQex559Ffg1",
        "outputId": "544ba76e-a6a9-42fd-88e2-f578eed066cb"
      },
      "execution_count": null,
      "outputs": [
        {
          "output_type": "execute_result",
          "data": {
            "text/plain": [
              "DatetimeIndex(['2018-04-01', '2018-04-08', '2018-04-15', '2018-04-22',\n",
              "               '2018-04-29'],\n",
              "              dtype='datetime64[ns]', freq='W-SUN')"
            ]
          },
          "metadata": {},
          "execution_count": 10
        }
      ]
    },
    {
      "cell_type": "code",
      "source": [
        "pd.date_range(\"2018-4-1\", \"2018-4-30\", freq=\"W-MON\")"
      ],
      "metadata": {
        "colab": {
          "base_uri": "https://localhost:8080/"
        },
        "id": "5DtZ3K5KFlns",
        "outputId": "d151e447-f13d-4837-8374-b1376e1762c0"
      },
      "execution_count": null,
      "outputs": [
        {
          "output_type": "execute_result",
          "data": {
            "text/plain": [
              "DatetimeIndex(['2018-04-02', '2018-04-09', '2018-04-16', '2018-04-23',\n",
              "               '2018-04-30'],\n",
              "              dtype='datetime64[ns]', freq='W-MON')"
            ]
          },
          "metadata": {},
          "execution_count": 11
        }
      ]
    },
    {
      "cell_type": "code",
      "source": [
        "pd.date_range(\"2018-4-1\", \"2018-4-30\", freq=\"MS\")"
      ],
      "metadata": {
        "colab": {
          "base_uri": "https://localhost:8080/"
        },
        "id": "bRfUKIdyFpjy",
        "outputId": "7ebcce84-b512-4e2d-d510-f0c0104c5fc4"
      },
      "execution_count": null,
      "outputs": [
        {
          "output_type": "execute_result",
          "data": {
            "text/plain": [
              "DatetimeIndex(['2018-04-01'], dtype='datetime64[ns]', freq='MS')"
            ]
          },
          "metadata": {},
          "execution_count": 12
        }
      ]
    },
    {
      "cell_type": "code",
      "source": [
        "pd.date_range(\"2018-4-1\", \"2018-4-30\", freq=\"M\")"
      ],
      "metadata": {
        "colab": {
          "base_uri": "https://localhost:8080/"
        },
        "id": "ZFYus4RRFrvp",
        "outputId": "9f7f9e09-3b91-467d-dfd7-6f7ae9eb5f23"
      },
      "execution_count": null,
      "outputs": [
        {
          "output_type": "execute_result",
          "data": {
            "text/plain": [
              "DatetimeIndex(['2018-04-30'], dtype='datetime64[ns]', freq='M')"
            ]
          },
          "metadata": {},
          "execution_count": 13
        }
      ]
    },
    {
      "cell_type": "code",
      "source": [
        "pd.date_range(\"2018-4-1\", \"2018-4-30\", freq=\"BMS\")"
      ],
      "metadata": {
        "colab": {
          "base_uri": "https://localhost:8080/"
        },
        "id": "nnV-mlXZFuiR",
        "outputId": "ff7a6b84-825e-4c67-a03e-dd5d358af834"
      },
      "execution_count": null,
      "outputs": [
        {
          "output_type": "execute_result",
          "data": {
            "text/plain": [
              "DatetimeIndex(['2018-04-02'], dtype='datetime64[ns]', freq='BMS')"
            ]
          },
          "metadata": {},
          "execution_count": 14
        }
      ]
    },
    {
      "cell_type": "markdown",
      "source": [
        "### shift 연산\n",
        "- 시계열 데이터의 인덱스는 시간이나 날짜를 나타내기 때문에 날짜 이동 등의 다양한 연산이 가능"
      ],
      "metadata": {
        "id": "dELbtlkpFyBL"
      }
    },
    {
      "cell_type": "code",
      "source": [
        "np.random.seed(0)\n",
        "ts = pd.Series(np.random.randn(4), index=pd.date_range(\n",
        "    \"2018-1-1\", periods=4, freq=\"M\"))\n",
        "ts"
      ],
      "metadata": {
        "colab": {
          "base_uri": "https://localhost:8080/"
        },
        "id": "zqyRuek_F3v2",
        "outputId": "d8977694-ac8d-41c8-ab3c-42fbd4580e7e"
      },
      "execution_count": null,
      "outputs": [
        {
          "output_type": "execute_result",
          "data": {
            "text/plain": [
              "2018-01-31    1.764052\n",
              "2018-02-28    0.400157\n",
              "2018-03-31    0.978738\n",
              "2018-04-30    2.240893\n",
              "Freq: M, dtype: float64"
            ]
          },
          "metadata": {},
          "execution_count": 15
        }
      ]
    },
    {
      "cell_type": "code",
      "source": [
        "ts.shift(1)"
      ],
      "metadata": {
        "colab": {
          "base_uri": "https://localhost:8080/"
        },
        "id": "iy4l35GaGBMS",
        "outputId": "f4b8710d-8126-4b10-85b9-71c51fc30bd6"
      },
      "execution_count": null,
      "outputs": [
        {
          "output_type": "execute_result",
          "data": {
            "text/plain": [
              "2018-01-31         NaN\n",
              "2018-02-28    1.764052\n",
              "2018-03-31    0.400157\n",
              "2018-04-30    0.978738\n",
              "Freq: M, dtype: float64"
            ]
          },
          "metadata": {},
          "execution_count": 16
        }
      ]
    },
    {
      "cell_type": "code",
      "source": [
        "ts.shift(-1)"
      ],
      "metadata": {
        "colab": {
          "base_uri": "https://localhost:8080/"
        },
        "id": "mardzvYlGGDd",
        "outputId": "2fe1ef73-9c7b-459b-d2c3-73c38cdfe5b2"
      },
      "execution_count": null,
      "outputs": [
        {
          "output_type": "execute_result",
          "data": {
            "text/plain": [
              "2018-01-31    0.400157\n",
              "2018-02-28    0.978738\n",
              "2018-03-31    2.240893\n",
              "2018-04-30         NaN\n",
              "Freq: M, dtype: float64"
            ]
          },
          "metadata": {},
          "execution_count": 17
        }
      ]
    },
    {
      "cell_type": "code",
      "source": [
        "ts.shift(1, freq=\"M\")"
      ],
      "metadata": {
        "colab": {
          "base_uri": "https://localhost:8080/"
        },
        "id": "jQzvQSlvGIsu",
        "outputId": "7febd7ce-dee0-47bd-f759-dbbe092cb9b5"
      },
      "execution_count": null,
      "outputs": [
        {
          "output_type": "execute_result",
          "data": {
            "text/plain": [
              "2018-02-28    1.764052\n",
              "2018-03-31    0.400157\n",
              "2018-04-30    0.978738\n",
              "2018-05-31    2.240893\n",
              "Freq: M, dtype: float64"
            ]
          },
          "metadata": {},
          "execution_count": 18
        }
      ]
    },
    {
      "cell_type": "code",
      "source": [
        "ts.shift(1, freq=\"W\")"
      ],
      "metadata": {
        "colab": {
          "base_uri": "https://localhost:8080/"
        },
        "id": "wqCHY6QKGLC-",
        "outputId": "eb374987-37ce-4954-c820-34c9bf746d1d"
      },
      "execution_count": null,
      "outputs": [
        {
          "output_type": "execute_result",
          "data": {
            "text/plain": [
              "2018-02-04    1.764052\n",
              "2018-03-04    0.400157\n",
              "2018-04-01    0.978738\n",
              "2018-05-06    2.240893\n",
              "dtype: float64"
            ]
          },
          "metadata": {},
          "execution_count": 19
        }
      ]
    },
    {
      "cell_type": "markdown",
      "source": [
        "### rolling 메소드\n",
        "- 이동평균,편차 구하기\n",
        "- 이동평균 : 수의 집합에서 특정 크기의 부분 집합을 연속적으로 이동하며 산출한 평균\n",
        "- window : 지정하는 부분집합의 크기"
      ],
      "metadata": {
        "id": "IXfoh3NaIxjA"
      }
    },
    {
      "cell_type": "code",
      "source": [
        "ts.rolling(window=10).mean()"
      ],
      "metadata": {
        "colab": {
          "base_uri": "https://localhost:8080/"
        },
        "id": "kbcrocdpKQ4d",
        "outputId": "c405cffe-5108-4753-8c56-07c3723dca6c"
      },
      "execution_count": null,
      "outputs": [
        {
          "output_type": "execute_result",
          "data": {
            "text/plain": [
              "2018-01-01 00:00:00         NaN\n",
              "2018-01-01 00:01:00         NaN\n",
              "2018-01-01 00:02:00         NaN\n",
              "2018-01-01 00:03:00         NaN\n",
              "2018-01-01 00:04:00         NaN\n",
              "2018-01-01 00:05:00         NaN\n",
              "2018-01-01 00:06:00         NaN\n",
              "2018-01-01 00:07:00         NaN\n",
              "2018-01-01 00:08:00         NaN\n",
              "2018-01-01 00:09:00    0.683532\n",
              "2018-01-01 00:10:00    0.774044\n",
              "2018-01-01 00:11:00    0.659928\n",
              "2018-01-01 00:12:00    0.796015\n",
              "2018-01-01 00:13:00    0.855259\n",
              "2018-01-01 00:14:00    0.724373\n",
              "2018-01-01 00:15:00    0.668542\n",
              "2018-01-01 00:16:00    0.519429\n",
              "2018-01-01 00:17:00    0.318884\n",
              "2018-01-01 00:18:00    0.434831\n",
              "2018-01-01 00:19:00    0.376463\n",
              "2018-01-01 00:20:00    0.333807\n",
              "2018-01-01 00:21:00    0.238597\n",
              "2018-01-01 00:22:00    0.100357\n",
              "2018-01-01 00:23:00    0.300784\n",
              "2018-01-01 00:24:00    0.306606\n",
              "2018-01-01 00:25:00    0.255131\n",
              "2018-01-01 00:26:00    0.140497\n",
              "2018-01-01 00:27:00    0.304362\n",
              "2018-01-01 00:28:00    0.207105\n",
              "2018-01-01 00:29:00    0.077650\n",
              "2018-01-01 00:30:00    0.083522\n",
              "2018-01-01 00:31:00    0.166129\n",
              "2018-01-01 00:32:00    0.267303\n",
              "2018-01-01 00:33:00    0.061547\n",
              "2018-01-01 00:34:00    0.033918\n",
              "2018-01-01 00:35:00   -0.116134\n",
              "2018-01-01 00:36:00   -0.188269\n",
              "2018-01-01 00:37:00   -0.198254\n",
              "2018-01-01 00:38:00   -0.114154\n",
              "2018-01-01 00:39:00   -0.053834\n",
              "2018-01-01 00:40:00    0.248065\n",
              "2018-01-01 00:41:00    0.274870\n",
              "2018-01-01 00:42:00    0.125929\n",
              "2018-01-01 00:43:00    0.258460\n",
              "2018-01-01 00:44:00    0.087269\n",
              "2018-01-01 00:45:00    0.150417\n",
              "2018-01-01 00:46:00    0.292718\n",
              "2018-01-01 00:47:00    0.420113\n",
              "2018-01-01 00:48:00    0.328970\n",
              "2018-01-01 00:49:00    0.182823\n",
              "2018-01-01 00:50:00   -0.065336\n",
              "2018-01-01 00:51:00   -0.226132\n",
              "2018-01-01 00:52:00   -0.022186\n",
              "2018-01-01 00:53:00   -0.241881\n",
              "2018-01-01 00:54:00   -0.225037\n",
              "2018-01-01 00:55:00   -0.222661\n",
              "2018-01-01 00:56:00   -0.265640\n",
              "2018-01-01 00:57:00   -0.244021\n",
              "2018-01-01 00:58:00   -0.074603\n",
              "2018-01-01 00:59:00    0.016796\n",
              "Freq: T, dtype: float64"
            ]
          },
          "metadata": {},
          "execution_count": 39
        }
      ]
    },
    {
      "cell_type": "code",
      "source": [
        "ts.rolling(window=10).std()"
      ],
      "metadata": {
        "colab": {
          "base_uri": "https://localhost:8080/"
        },
        "id": "Zs95dJUjKxQS",
        "outputId": "63ef0b53-ad02-412c-88e1-f4333a979807"
      },
      "execution_count": null,
      "outputs": [
        {
          "output_type": "execute_result",
          "data": {
            "text/plain": [
              "2018-01-01 00:00:00         NaN\n",
              "2018-01-01 00:01:00         NaN\n",
              "2018-01-01 00:02:00         NaN\n",
              "2018-01-01 00:03:00         NaN\n",
              "2018-01-01 00:04:00         NaN\n",
              "2018-01-01 00:05:00         NaN\n",
              "2018-01-01 00:06:00         NaN\n",
              "2018-01-01 00:07:00         NaN\n",
              "2018-01-01 00:08:00         NaN\n",
              "2018-01-01 00:09:00    1.324968\n",
              "2018-01-01 00:10:00    1.209968\n",
              "2018-01-01 00:11:00    1.139145\n",
              "2018-01-01 00:12:00    1.076193\n",
              "2018-01-01 00:13:00    0.995030\n",
              "2018-01-01 00:14:00    0.922417\n",
              "2018-01-01 00:15:00    0.887812\n",
              "2018-01-01 00:16:00    0.783102\n",
              "2018-01-01 00:17:00    0.918223\n",
              "2018-01-01 00:18:00    0.820672\n",
              "2018-01-01 00:19:00    0.718487\n",
              "2018-01-01 00:20:00    0.771693\n",
              "2018-01-01 00:21:00    0.766161\n",
              "2018-01-01 00:22:00    0.748604\n",
              "2018-01-01 00:23:00    0.921075\n",
              "2018-01-01 00:24:00    0.923457\n",
              "2018-01-01 00:25:00    0.899361\n",
              "2018-01-01 00:26:00    0.953605\n",
              "2018-01-01 00:27:00    0.852278\n",
              "2018-01-01 00:28:00    0.906802\n",
              "2018-01-01 00:29:00    0.817242\n",
              "2018-01-01 00:30:00    0.811266\n",
              "2018-01-01 00:31:00    0.826795\n",
              "2018-01-01 00:32:00    0.806700\n",
              "2018-01-01 00:33:00    0.592277\n",
              "2018-01-01 00:34:00    0.566505\n",
              "2018-01-01 00:35:00    0.649251\n",
              "2018-01-01 00:36:00    0.760500\n",
              "2018-01-01 00:37:00    0.750475\n",
              "2018-01-01 00:38:00    0.738219\n",
              "2018-01-01 00:39:00    0.775191\n",
              "2018-01-01 00:40:00    1.059192\n",
              "2018-01-01 00:41:00    1.074518\n",
              "2018-01-01 00:42:00    1.129849\n",
              "2018-01-01 00:43:00    1.163517\n",
              "2018-01-01 00:44:00    1.262739\n",
              "2018-01-01 00:45:00    1.211921\n",
              "2018-01-01 00:46:00    1.073364\n",
              "2018-01-01 00:47:00    1.164443\n",
              "2018-01-01 00:48:00    1.220791\n",
              "2018-01-01 00:49:00    1.266696\n",
              "2018-01-01 00:50:00    1.003469\n",
              "2018-01-01 00:51:00    0.951142\n",
              "2018-01-01 00:52:00    1.004686\n",
              "2018-01-01 00:53:00    0.967409\n",
              "2018-01-01 00:54:00    0.947901\n",
              "2018-01-01 00:55:00    0.947272\n",
              "2018-01-01 00:56:00    0.949235\n",
              "2018-01-01 00:57:00    1.000397\n",
              "2018-01-01 00:58:00    1.048475\n",
              "2018-01-01 00:59:00    1.014955\n",
              "Freq: T, dtype: float64"
            ]
          },
          "metadata": {},
          "execution_count": 40
        }
      ]
    },
    {
      "cell_type": "markdown",
      "source": [
        "### resample 연산\n",
        "- 시간 간격을 재조정하는 리샘플링 가능\n",
        "- 시간 구간이 작아지면 데이터 양이 증가 : up-sampling\n",
        "- 시간 구간이 커지면 데이터 양 감소 : down-sampling"
      ],
      "metadata": {
        "id": "bFqP5zMbGMnP"
      }
    },
    {
      "cell_type": "code",
      "source": [
        "ts = pd.Series(np.random.randn(100), index=pd.date_range(\n",
        "    \"2018-1-1\", periods=100, freq=\"D\"))\n",
        "ts.tail(20)"
      ],
      "metadata": {
        "colab": {
          "base_uri": "https://localhost:8080/"
        },
        "id": "B0kYMUzMGZUh",
        "outputId": "6fe35dd1-512e-48a4-c19d-c3000081b516"
      },
      "execution_count": null,
      "outputs": [
        {
          "output_type": "execute_result",
          "data": {
            "text/plain": [
              "2018-03-22    1.488252\n",
              "2018-03-23    1.895889\n",
              "2018-03-24    1.178780\n",
              "2018-03-25   -0.179925\n",
              "2018-03-26   -1.070753\n",
              "2018-03-27    1.054452\n",
              "2018-03-28   -0.403177\n",
              "2018-03-29    1.222445\n",
              "2018-03-30    0.208275\n",
              "2018-03-31    0.976639\n",
              "2018-04-01    0.356366\n",
              "2018-04-02    0.706573\n",
              "2018-04-03    0.010500\n",
              "2018-04-04    1.785870\n",
              "2018-04-05    0.126912\n",
              "2018-04-06    0.401989\n",
              "2018-04-07    1.883151\n",
              "2018-04-08   -1.347759\n",
              "2018-04-09   -1.270485\n",
              "2018-04-10    0.969397\n",
              "Freq: D, dtype: float64"
            ]
          },
          "metadata": {},
          "execution_count": 20
        }
      ]
    },
    {
      "cell_type": "markdown",
      "source": [
        "- 다운-샘플링의 경우 : 원래의 데이터가 그룹으로 묶이기 때문에 그룹바이(groupby)떄와 같이 그룹 연산을 해서 대표값을 구해야 한다."
      ],
      "metadata": {
        "id": "BeVzHkjkGjfj"
      }
    },
    {
      "cell_type": "code",
      "source": [
        "ts.resample('W').mean()"
      ],
      "metadata": {
        "colab": {
          "base_uri": "https://localhost:8080/"
        },
        "id": "dBBL3vJXGsfk",
        "outputId": "e2756aa8-fb92-45df-e700-bc6db7266791"
      },
      "execution_count": null,
      "outputs": [
        {
          "output_type": "execute_result",
          "data": {
            "text/plain": [
              "2018-01-07    0.305776\n",
              "2018-01-14    0.629064\n",
              "2018-01-21   -0.006910\n",
              "2018-01-28    0.277065\n",
              "2018-02-04   -0.144972\n",
              "2018-02-11   -0.496299\n",
              "2018-02-18   -0.474473\n",
              "2018-02-25   -0.201222\n",
              "2018-03-04   -0.775142\n",
              "2018-03-11    0.052868\n",
              "2018-03-18   -0.450379\n",
              "2018-03-25    0.601892\n",
              "2018-04-01    0.334893\n",
              "2018-04-08    0.509605\n",
              "2018-04-15   -0.150544\n",
              "Freq: W-SUN, dtype: float64"
            ]
          },
          "metadata": {},
          "execution_count": 21
        }
      ]
    },
    {
      "cell_type": "code",
      "source": [
        "ts.resample('M').first()"
      ],
      "metadata": {
        "colab": {
          "base_uri": "https://localhost:8080/"
        },
        "id": "g7uVLNiwGxT4",
        "outputId": "6233e527-f3c7-4554-91f8-461e40b29994"
      },
      "execution_count": null,
      "outputs": [
        {
          "output_type": "execute_result",
          "data": {
            "text/plain": [
              "2018-01-31    1.867558\n",
              "2018-02-28    0.156349\n",
              "2018-03-31   -1.726283\n",
              "2018-04-30    0.356366\n",
              "Freq: M, dtype: float64"
            ]
          },
          "metadata": {},
          "execution_count": 22
        }
      ]
    },
    {
      "cell_type": "markdown",
      "source": [
        "날짜가 아닌 시/분 단위에서는 구간위 왼쪽 한계값(가장 빠른 값)은 포함하고 오른쪽 한계값(가장 늦은 값)은 포함하지 않는다. 즉, 가장 늦은 값은 다음 구간에 포함"
      ],
      "metadata": {
        "id": "mrI5KsxNHMiU"
      }
    },
    {
      "cell_type": "code",
      "source": [
        "ts = pd.Series(np.random.randn(60), index=pd.date_range(\n",
        "    \"2018-1-1\", periods=60, freq=\"T\"))\n",
        "ts.head(20)"
      ],
      "metadata": {
        "colab": {
          "base_uri": "https://localhost:8080/"
        },
        "id": "4BhvPfDAHVLI",
        "outputId": "f83a1c3f-9b42-4a62-e9d2-2f297872b26a"
      },
      "execution_count": null,
      "outputs": [
        {
          "output_type": "execute_result",
          "data": {
            "text/plain": [
              "2018-01-01 00:00:00   -1.173123\n",
              "2018-01-01 00:01:00    1.943621\n",
              "2018-01-01 00:02:00   -0.413619\n",
              "2018-01-01 00:03:00   -0.747455\n",
              "2018-01-01 00:04:00    1.922942\n",
              "2018-01-01 00:05:00    1.480515\n",
              "2018-01-01 00:06:00    1.867559\n",
              "2018-01-01 00:07:00    0.906045\n",
              "2018-01-01 00:08:00   -0.861226\n",
              "2018-01-01 00:09:00    1.910065\n",
              "2018-01-01 00:10:00   -0.268003\n",
              "2018-01-01 00:11:00    0.802456\n",
              "2018-01-01 00:12:00    0.947252\n",
              "2018-01-01 00:13:00   -0.155010\n",
              "2018-01-01 00:14:00    0.614079\n",
              "2018-01-01 00:15:00    0.922207\n",
              "2018-01-01 00:16:00    0.376426\n",
              "2018-01-01 00:17:00   -1.099401\n",
              "2018-01-01 00:18:00    0.298238\n",
              "2018-01-01 00:19:00    1.326386\n",
              "Freq: T, dtype: float64"
            ]
          },
          "metadata": {},
          "execution_count": 23
        }
      ]
    },
    {
      "cell_type": "code",
      "source": [
        "ts.resample('10T').sum()"
      ],
      "metadata": {
        "colab": {
          "base_uri": "https://localhost:8080/"
        },
        "id": "MzcV_OKVHZ1k",
        "outputId": "53cd3784-8652-4d7f-e957-20de82f3b659"
      },
      "execution_count": null,
      "outputs": [
        {
          "output_type": "execute_result",
          "data": {
            "text/plain": [
              "2018-01-01 00:00:00    6.835324\n",
              "2018-01-01 00:10:00    3.764630\n",
              "2018-01-01 00:20:00    0.776495\n",
              "2018-01-01 00:30:00   -0.538336\n",
              "2018-01-01 00:40:00    1.828234\n",
              "2018-01-01 00:50:00    0.167957\n",
              "Freq: 10T, dtype: float64"
            ]
          },
          "metadata": {},
          "execution_count": 24
        }
      ]
    },
    {
      "cell_type": "markdown",
      "source": [
        "왼쪽이 아니라 오른쪽 한계값을 구간에 포함하려면 closed=\"right\"인수 사용"
      ],
      "metadata": {
        "id": "ewVjV1JUHdrJ"
      }
    },
    {
      "cell_type": "code",
      "source": [
        "ts.resample('10T', closed=\"right\").sum()"
      ],
      "metadata": {
        "colab": {
          "base_uri": "https://localhost:8080/"
        },
        "id": "ocoXnP6mHhS6",
        "outputId": "02b6fb03-ee3a-406d-8ce7-2156247a969e"
      },
      "execution_count": null,
      "outputs": [
        {
          "output_type": "execute_result",
          "data": {
            "text/plain": [
              "2017-12-31 23:50:00   -1.173123\n",
              "2018-01-01 00:00:00    7.740444\n",
              "2018-01-01 00:10:00    3.338065\n",
              "2018-01-01 00:20:00    0.835217\n",
              "2018-01-01 00:30:00    2.480654\n",
              "2018-01-01 00:40:00   -0.653363\n",
              "2018-01-01 00:50:00    0.266409\n",
              "Freq: 10T, dtype: float64"
            ]
          },
          "metadata": {},
          "execution_count": 25
        }
      ]
    },
    {
      "cell_type": "markdown",
      "source": [
        "- ohlc 메서드 : 구간의 시고저종(open, high, low, close)값을 구함"
      ],
      "metadata": {
        "id": "E1V_X1-pHpjz"
      }
    },
    {
      "cell_type": "code",
      "source": [
        "ts.resample('5T').ohlc()"
      ],
      "metadata": {
        "colab": {
          "base_uri": "https://localhost:8080/",
          "height": 426
        },
        "id": "hU7cUBNlHpTp",
        "outputId": "c00e5a1f-016a-4a7f-a693-001fb56d0d28"
      },
      "execution_count": null,
      "outputs": [
        {
          "output_type": "execute_result",
          "data": {
            "text/plain": [
              "                         open      high       low     close\n",
              "2018-01-01 00:00:00 -1.173123  1.943621 -1.173123  1.922942\n",
              "2018-01-01 00:05:00  1.480515  1.910065 -0.861226  1.910065\n",
              "2018-01-01 00:10:00 -0.268003  0.947252 -0.268003  0.614079\n",
              "2018-01-01 00:15:00  0.922207  1.326386 -1.099401  1.326386\n",
              "2018-01-01 00:20:00 -0.694568  1.849264 -0.694568  0.672295\n",
              "2018-01-01 00:25:00  0.407462  0.539249 -0.769916  0.031831\n",
              "2018-01-01 00:30:00 -0.635846  0.676433 -0.635846  0.396007\n",
              "2018-01-01 00:35:00 -1.093062  0.635031 -1.491258  0.635031\n",
              "2018-01-01 00:40:00  2.383145  2.383145 -1.315907 -1.315907\n",
              "2018-01-01 00:45:00 -0.461585  1.713343 -0.826439 -0.826439\n",
              "2018-01-01 00:50:00 -0.098453  1.126636 -1.147469 -1.147469\n",
              "2018-01-01 00:55:00 -0.437820  1.929532 -0.498032  0.087551"
            ],
            "text/html": [
              "\n",
              "  <div id=\"df-747a2444-8b45-4fd8-bcbf-00845ce5c726\">\n",
              "    <div class=\"colab-df-container\">\n",
              "      <div>\n",
              "<style scoped>\n",
              "    .dataframe tbody tr th:only-of-type {\n",
              "        vertical-align: middle;\n",
              "    }\n",
              "\n",
              "    .dataframe tbody tr th {\n",
              "        vertical-align: top;\n",
              "    }\n",
              "\n",
              "    .dataframe thead th {\n",
              "        text-align: right;\n",
              "    }\n",
              "</style>\n",
              "<table border=\"1\" class=\"dataframe\">\n",
              "  <thead>\n",
              "    <tr style=\"text-align: right;\">\n",
              "      <th></th>\n",
              "      <th>open</th>\n",
              "      <th>high</th>\n",
              "      <th>low</th>\n",
              "      <th>close</th>\n",
              "    </tr>\n",
              "  </thead>\n",
              "  <tbody>\n",
              "    <tr>\n",
              "      <th>2018-01-01 00:00:00</th>\n",
              "      <td>-1.173123</td>\n",
              "      <td>1.943621</td>\n",
              "      <td>-1.173123</td>\n",
              "      <td>1.922942</td>\n",
              "    </tr>\n",
              "    <tr>\n",
              "      <th>2018-01-01 00:05:00</th>\n",
              "      <td>1.480515</td>\n",
              "      <td>1.910065</td>\n",
              "      <td>-0.861226</td>\n",
              "      <td>1.910065</td>\n",
              "    </tr>\n",
              "    <tr>\n",
              "      <th>2018-01-01 00:10:00</th>\n",
              "      <td>-0.268003</td>\n",
              "      <td>0.947252</td>\n",
              "      <td>-0.268003</td>\n",
              "      <td>0.614079</td>\n",
              "    </tr>\n",
              "    <tr>\n",
              "      <th>2018-01-01 00:15:00</th>\n",
              "      <td>0.922207</td>\n",
              "      <td>1.326386</td>\n",
              "      <td>-1.099401</td>\n",
              "      <td>1.326386</td>\n",
              "    </tr>\n",
              "    <tr>\n",
              "      <th>2018-01-01 00:20:00</th>\n",
              "      <td>-0.694568</td>\n",
              "      <td>1.849264</td>\n",
              "      <td>-0.694568</td>\n",
              "      <td>0.672295</td>\n",
              "    </tr>\n",
              "    <tr>\n",
              "      <th>2018-01-01 00:25:00</th>\n",
              "      <td>0.407462</td>\n",
              "      <td>0.539249</td>\n",
              "      <td>-0.769916</td>\n",
              "      <td>0.031831</td>\n",
              "    </tr>\n",
              "    <tr>\n",
              "      <th>2018-01-01 00:30:00</th>\n",
              "      <td>-0.635846</td>\n",
              "      <td>0.676433</td>\n",
              "      <td>-0.635846</td>\n",
              "      <td>0.396007</td>\n",
              "    </tr>\n",
              "    <tr>\n",
              "      <th>2018-01-01 00:35:00</th>\n",
              "      <td>-1.093062</td>\n",
              "      <td>0.635031</td>\n",
              "      <td>-1.491258</td>\n",
              "      <td>0.635031</td>\n",
              "    </tr>\n",
              "    <tr>\n",
              "      <th>2018-01-01 00:40:00</th>\n",
              "      <td>2.383145</td>\n",
              "      <td>2.383145</td>\n",
              "      <td>-1.315907</td>\n",
              "      <td>-1.315907</td>\n",
              "    </tr>\n",
              "    <tr>\n",
              "      <th>2018-01-01 00:45:00</th>\n",
              "      <td>-0.461585</td>\n",
              "      <td>1.713343</td>\n",
              "      <td>-0.826439</td>\n",
              "      <td>-0.826439</td>\n",
              "    </tr>\n",
              "    <tr>\n",
              "      <th>2018-01-01 00:50:00</th>\n",
              "      <td>-0.098453</td>\n",
              "      <td>1.126636</td>\n",
              "      <td>-1.147469</td>\n",
              "      <td>-1.147469</td>\n",
              "    </tr>\n",
              "    <tr>\n",
              "      <th>2018-01-01 00:55:00</th>\n",
              "      <td>-0.437820</td>\n",
              "      <td>1.929532</td>\n",
              "      <td>-0.498032</td>\n",
              "      <td>0.087551</td>\n",
              "    </tr>\n",
              "  </tbody>\n",
              "</table>\n",
              "</div>\n",
              "      <button class=\"colab-df-convert\" onclick=\"convertToInteractive('df-747a2444-8b45-4fd8-bcbf-00845ce5c726')\"\n",
              "              title=\"Convert this dataframe to an interactive table.\"\n",
              "              style=\"display:none;\">\n",
              "        \n",
              "  <svg xmlns=\"http://www.w3.org/2000/svg\" height=\"24px\"viewBox=\"0 0 24 24\"\n",
              "       width=\"24px\">\n",
              "    <path d=\"M0 0h24v24H0V0z\" fill=\"none\"/>\n",
              "    <path d=\"M18.56 5.44l.94 2.06.94-2.06 2.06-.94-2.06-.94-.94-2.06-.94 2.06-2.06.94zm-11 1L8.5 8.5l.94-2.06 2.06-.94-2.06-.94L8.5 2.5l-.94 2.06-2.06.94zm10 10l.94 2.06.94-2.06 2.06-.94-2.06-.94-.94-2.06-.94 2.06-2.06.94z\"/><path d=\"M17.41 7.96l-1.37-1.37c-.4-.4-.92-.59-1.43-.59-.52 0-1.04.2-1.43.59L10.3 9.45l-7.72 7.72c-.78.78-.78 2.05 0 2.83L4 21.41c.39.39.9.59 1.41.59.51 0 1.02-.2 1.41-.59l7.78-7.78 2.81-2.81c.8-.78.8-2.07 0-2.86zM5.41 20L4 18.59l7.72-7.72 1.47 1.35L5.41 20z\"/>\n",
              "  </svg>\n",
              "      </button>\n",
              "      \n",
              "  <style>\n",
              "    .colab-df-container {\n",
              "      display:flex;\n",
              "      flex-wrap:wrap;\n",
              "      gap: 12px;\n",
              "    }\n",
              "\n",
              "    .colab-df-convert {\n",
              "      background-color: #E8F0FE;\n",
              "      border: none;\n",
              "      border-radius: 50%;\n",
              "      cursor: pointer;\n",
              "      display: none;\n",
              "      fill: #1967D2;\n",
              "      height: 32px;\n",
              "      padding: 0 0 0 0;\n",
              "      width: 32px;\n",
              "    }\n",
              "\n",
              "    .colab-df-convert:hover {\n",
              "      background-color: #E2EBFA;\n",
              "      box-shadow: 0px 1px 2px rgba(60, 64, 67, 0.3), 0px 1px 3px 1px rgba(60, 64, 67, 0.15);\n",
              "      fill: #174EA6;\n",
              "    }\n",
              "\n",
              "    [theme=dark] .colab-df-convert {\n",
              "      background-color: #3B4455;\n",
              "      fill: #D2E3FC;\n",
              "    }\n",
              "\n",
              "    [theme=dark] .colab-df-convert:hover {\n",
              "      background-color: #434B5C;\n",
              "      box-shadow: 0px 1px 3px 1px rgba(0, 0, 0, 0.15);\n",
              "      filter: drop-shadow(0px 1px 2px rgba(0, 0, 0, 0.3));\n",
              "      fill: #FFFFFF;\n",
              "    }\n",
              "  </style>\n",
              "\n",
              "      <script>\n",
              "        const buttonEl =\n",
              "          document.querySelector('#df-747a2444-8b45-4fd8-bcbf-00845ce5c726 button.colab-df-convert');\n",
              "        buttonEl.style.display =\n",
              "          google.colab.kernel.accessAllowed ? 'block' : 'none';\n",
              "\n",
              "        async function convertToInteractive(key) {\n",
              "          const element = document.querySelector('#df-747a2444-8b45-4fd8-bcbf-00845ce5c726');\n",
              "          const dataTable =\n",
              "            await google.colab.kernel.invokeFunction('convertToInteractive',\n",
              "                                                     [key], {});\n",
              "          if (!dataTable) return;\n",
              "\n",
              "          const docLinkHtml = 'Like what you see? Visit the ' +\n",
              "            '<a target=\"_blank\" href=https://colab.research.google.com/notebooks/data_table.ipynb>data table notebook</a>'\n",
              "            + ' to learn more about interactive tables.';\n",
              "          element.innerHTML = '';\n",
              "          dataTable['output_type'] = 'display_data';\n",
              "          await google.colab.output.renderOutput(dataTable, element);\n",
              "          const docLink = document.createElement('div');\n",
              "          docLink.innerHTML = docLinkHtml;\n",
              "          element.appendChild(docLink);\n",
              "        }\n",
              "      </script>\n",
              "    </div>\n",
              "  </div>\n",
              "  "
            ]
          },
          "metadata": {},
          "execution_count": 26
        }
      ]
    },
    {
      "cell_type": "markdown",
      "source": [
        "업-샘플링의 경우에는 실제로 존재하지 않는 데이터를 만들어야 한다. 이 때는 앞에서 나온 데이터를 뒤에서 그대로 쓰는 forward filling 방식과 뒤에서 나올 데이터를 앞에서 미리 쓰는 backward filling 방식을 사용할 수 있다. 각각 ffill, bfill 메서드를 이용한다."
      ],
      "metadata": {
        "id": "pBkJclz7H2dU"
      }
    },
    {
      "cell_type": "code",
      "source": [
        "ts.resample('30s').ffill().head(20)"
      ],
      "metadata": {
        "colab": {
          "base_uri": "https://localhost:8080/"
        },
        "id": "YFVOtDk1H4Rd",
        "outputId": "4e43dac8-bf06-42d0-dbac-0eb194deac8b"
      },
      "execution_count": null,
      "outputs": [
        {
          "output_type": "execute_result",
          "data": {
            "text/plain": [
              "2018-01-01 00:00:00   -1.173123\n",
              "2018-01-01 00:00:30   -1.173123\n",
              "2018-01-01 00:01:00    1.943621\n",
              "2018-01-01 00:01:30    1.943621\n",
              "2018-01-01 00:02:00   -0.413619\n",
              "2018-01-01 00:02:30   -0.413619\n",
              "2018-01-01 00:03:00   -0.747455\n",
              "2018-01-01 00:03:30   -0.747455\n",
              "2018-01-01 00:04:00    1.922942\n",
              "2018-01-01 00:04:30    1.922942\n",
              "2018-01-01 00:05:00    1.480515\n",
              "2018-01-01 00:05:30    1.480515\n",
              "2018-01-01 00:06:00    1.867559\n",
              "2018-01-01 00:06:30    1.867559\n",
              "2018-01-01 00:07:00    0.906045\n",
              "2018-01-01 00:07:30    0.906045\n",
              "2018-01-01 00:08:00   -0.861226\n",
              "2018-01-01 00:08:30   -0.861226\n",
              "2018-01-01 00:09:00    1.910065\n",
              "2018-01-01 00:09:30    1.910065\n",
              "Freq: 30S, dtype: float64"
            ]
          },
          "metadata": {},
          "execution_count": 27
        }
      ]
    },
    {
      "cell_type": "code",
      "source": [
        "ts.resample('30s').bfill().head(20)"
      ],
      "metadata": {
        "colab": {
          "base_uri": "https://localhost:8080/"
        },
        "id": "0DllBqC1H-eE",
        "outputId": "788edce5-71c5-44a6-9207-a8e05a217491"
      },
      "execution_count": null,
      "outputs": [
        {
          "output_type": "execute_result",
          "data": {
            "text/plain": [
              "2018-01-01 00:00:00   -1.173123\n",
              "2018-01-01 00:00:30    1.943621\n",
              "2018-01-01 00:01:00    1.943621\n",
              "2018-01-01 00:01:30   -0.413619\n",
              "2018-01-01 00:02:00   -0.413619\n",
              "2018-01-01 00:02:30   -0.747455\n",
              "2018-01-01 00:03:00   -0.747455\n",
              "2018-01-01 00:03:30    1.922942\n",
              "2018-01-01 00:04:00    1.922942\n",
              "2018-01-01 00:04:30    1.480515\n",
              "2018-01-01 00:05:00    1.480515\n",
              "2018-01-01 00:05:30    1.867559\n",
              "2018-01-01 00:06:00    1.867559\n",
              "2018-01-01 00:06:30    0.906045\n",
              "2018-01-01 00:07:00    0.906045\n",
              "2018-01-01 00:07:30   -0.861226\n",
              "2018-01-01 00:08:00   -0.861226\n",
              "2018-01-01 00:08:30    1.910065\n",
              "2018-01-01 00:09:00    1.910065\n",
              "2018-01-01 00:09:30   -0.268003\n",
              "Freq: 30S, dtype: float64"
            ]
          },
          "metadata": {},
          "execution_count": 28
        }
      ]
    },
    {
      "cell_type": "markdown",
      "source": [
        "### dt 접근자\n",
        "- datetime 자료형 시리즈에는 dt 접근자가 있어 datetime 자료형이 가진 몇가지 유용한 속성과 메서드를 사용할 수 있다."
      ],
      "metadata": {
        "id": "6MZu0xABIAnC"
      }
    },
    {
      "cell_type": "code",
      "source": [
        "s = pd.Series(pd.date_range(\"2020-12-25\", periods=100, freq=\"D\"))\n",
        "s"
      ],
      "metadata": {
        "colab": {
          "base_uri": "https://localhost:8080/"
        },
        "id": "r333Jw7TILaL",
        "outputId": "1f023512-d095-4087-b6f2-a3bdfbcf2ffc"
      },
      "execution_count": null,
      "outputs": [
        {
          "output_type": "execute_result",
          "data": {
            "text/plain": [
              "0    2020-12-25\n",
              "1    2020-12-26\n",
              "2    2020-12-27\n",
              "3    2020-12-28\n",
              "4    2020-12-29\n",
              "        ...    \n",
              "95   2021-03-30\n",
              "96   2021-03-31\n",
              "97   2021-04-01\n",
              "98   2021-04-02\n",
              "99   2021-04-03\n",
              "Length: 100, dtype: datetime64[ns]"
            ]
          },
          "metadata": {},
          "execution_count": 30
        }
      ]
    },
    {
      "cell_type": "markdown",
      "source": [
        "year, month, day, weekday 등의 속성을 이용하면 년, 월, 일, 요일 정보를 빼낼 수 있음"
      ],
      "metadata": {
        "id": "dZzeuDB-IRQH"
      }
    },
    {
      "cell_type": "code",
      "source": [
        "s.dt.year"
      ],
      "metadata": {
        "colab": {
          "base_uri": "https://localhost:8080/"
        },
        "id": "weKL9FqEIH1B",
        "outputId": "0c9a793e-a26b-4214-b3c4-c8f04ac7f996"
      },
      "execution_count": null,
      "outputs": [
        {
          "output_type": "execute_result",
          "data": {
            "text/plain": [
              "0     2020\n",
              "1     2020\n",
              "2     2020\n",
              "3     2020\n",
              "4     2020\n",
              "      ... \n",
              "95    2021\n",
              "96    2021\n",
              "97    2021\n",
              "98    2021\n",
              "99    2021\n",
              "Length: 100, dtype: int64"
            ]
          },
          "metadata": {},
          "execution_count": 31
        }
      ]
    },
    {
      "cell_type": "code",
      "source": [
        "s.dt.month"
      ],
      "metadata": {
        "colab": {
          "base_uri": "https://localhost:8080/"
        },
        "id": "tl2APXnfISKu",
        "outputId": "042b48d6-f77c-48ab-94c0-bcc4eaeda609"
      },
      "execution_count": null,
      "outputs": [
        {
          "output_type": "execute_result",
          "data": {
            "text/plain": [
              "0     12\n",
              "1     12\n",
              "2     12\n",
              "3     12\n",
              "4     12\n",
              "      ..\n",
              "95     3\n",
              "96     3\n",
              "97     4\n",
              "98     4\n",
              "99     4\n",
              "Length: 100, dtype: int64"
            ]
          },
          "metadata": {},
          "execution_count": 32
        }
      ]
    },
    {
      "cell_type": "code",
      "source": [
        "s.dt.weekday"
      ],
      "metadata": {
        "colab": {
          "base_uri": "https://localhost:8080/"
        },
        "id": "f_cWrpAeIYwk",
        "outputId": "e3d842c6-6005-4dbd-b26c-7d529bd90ca4"
      },
      "execution_count": null,
      "outputs": [
        {
          "output_type": "execute_result",
          "data": {
            "text/plain": [
              "0     4\n",
              "1     5\n",
              "2     6\n",
              "3     0\n",
              "4     1\n",
              "     ..\n",
              "95    1\n",
              "96    2\n",
              "97    3\n",
              "98    4\n",
              "99    5\n",
              "Length: 100, dtype: int64"
            ]
          },
          "metadata": {},
          "execution_count": 33
        }
      ]
    },
    {
      "cell_type": "markdown",
      "source": [
        "strftime 메서드를 이용하여 문자열을 만드는 것도 가능"
      ],
      "metadata": {
        "id": "z4IJhfE5Ibwg"
      }
    },
    {
      "cell_type": "code",
      "source": [
        "s.dt.strftime(\"%Y년 %m월 %d일\")"
      ],
      "metadata": {
        "colab": {
          "base_uri": "https://localhost:8080/"
        },
        "id": "xLfzBheXIc9V",
        "outputId": "39b020cf-9c45-4d40-eb95-7d6e90778dc3"
      },
      "execution_count": null,
      "outputs": [
        {
          "output_type": "execute_result",
          "data": {
            "text/plain": [
              "0     2020년 12월 25일\n",
              "1     2020년 12월 26일\n",
              "2     2020년 12월 27일\n",
              "3     2020년 12월 28일\n",
              "4     2020년 12월 29일\n",
              "          ...      \n",
              "95    2021년 03월 30일\n",
              "96    2021년 03월 31일\n",
              "97    2021년 04월 01일\n",
              "98    2021년 04월 02일\n",
              "99    2021년 04월 03일\n",
              "Length: 100, dtype: object"
            ]
          },
          "metadata": {},
          "execution_count": 34
        }
      ]
    }
  ]
}