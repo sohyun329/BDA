{
  "nbformat": 4,
  "nbformat_minor": 0,
  "metadata": {
    "colab": {
      "provenance": []
    },
    "kernelspec": {
      "name": "python3",
      "display_name": "Python 3"
    },
    "language_info": {
      "name": "python"
    }
  },
  "cells": [
    {
      "cell_type": "code",
      "source": [
        "import re"
      ],
      "metadata": {
        "id": "gjnlB7gNDb-N"
      },
      "execution_count": null,
      "outputs": []
    },
    {
      "cell_type": "markdown",
      "source": [
        "### 필수과제 1\n",
        "- '*'\n",
        "- '+'\n",
        "\n",
        "- 둘의 차이를 찾아서 코드 작성하고, 주석처리 부탁드립니다."
      ],
      "metadata": {
        "id": "kMN0x_oVAJt4"
      }
    },
    {
      "cell_type": "markdown",
      "source": [
        "- \"*\" : * 이탤릭체 텍스트앞에 있는 문자가 0회 이상 반복가능  \n",
        "(하나도 없어도 됨 : a가 하나도 없는 ct도 가능)  \n",
        "ca*t: ct, cat, caat, caaa...t"
      ],
      "metadata": {
        "id": "QCKJ5PhNBpyS"
      }
    },
    {
      "cell_type": "code",
      "execution_count": null,
      "metadata": {
        "colab": {
          "base_uri": "https://localhost:8080/"
        },
        "id": "IuBnYDTPAHG8",
        "outputId": "5f024de6-6e05-4891-9a48-aed1c979d1ac"
      },
      "outputs": [
        {
          "output_type": "stream",
          "name": "stdout",
          "text": [
            "re.compile('go*gle')\n",
            "['ggle', 'gogle', 'google', 'goooogle']\n"
          ]
        }
      ],
      "source": [
        "p = re.compile('go*gle')\n",
        "print(p)\n",
        "\n",
        "test_1 = p.findall('ggle gogle google goooogle gooog')\n",
        "print(test_1)"
      ]
    },
    {
      "cell_type": "markdown",
      "source": [
        "- \"+\" : +앞에 있는 문자가 1회 이상 반복가능  \n",
        "ca+t : cat, caat, caaa..t"
      ],
      "metadata": {
        "id": "hcdcvD6GDU8e"
      }
    },
    {
      "cell_type": "code",
      "source": [
        "p = re.compile('go+gle')\n",
        "print(p)\n",
        "\n",
        "test_1 = p.findall('ggle gogle google goooogle gooog')\n",
        "print(test_1)"
      ],
      "metadata": {
        "colab": {
          "base_uri": "https://localhost:8080/"
        },
        "id": "bgrH-bNuDVUJ",
        "outputId": "75fb6270-1c94-42d6-a7bc-3ced38913987"
      },
      "execution_count": null,
      "outputs": [
        {
          "output_type": "stream",
          "name": "stdout",
          "text": [
            "re.compile('go+gle')\n",
            "['gogle', 'google', 'goooogle']\n"
          ]
        }
      ]
    }
  ]
}